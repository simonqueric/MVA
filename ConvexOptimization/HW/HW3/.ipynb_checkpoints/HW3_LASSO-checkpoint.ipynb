{
 "cells": [
  {
   "cell_type": "markdown",
   "id": "a1a6f11a",
   "metadata": {},
   "source": [
    "# Homework 3 : LASSO\n",
    "\n",
    "The dual of the problem is :\n",
    "\n",
    "$$ \\max_v \\frac{v^Tv}{4} + y^Tv $$\n",
    "\n",
    "such that \n",
    "\n",
    "$$ \\|X^Tv\\|_{\\infty} \\leqslant 1  $$\n",
    "\n",
    "$\\Longleftrightarrow$\n",
    "\n",
    "$$ \\begin{pmatrix} X^T \\\\ -X^T \\end{pmatrix} v \\leqslant \\lambda $$\n",
    "\n",
    "$X^T \\in \\mathbb{R}^{d\\times n}$\n",
    "\n",
    "Newton's method : \n",
    "\n",
    "$$ v_{k+1} = v_k - u\\nabla^2 f(v_k)^{-1} \\nabla f(v_k) $$\n",
    "\n",
    "with $u\\in \\mathbb{R}$"
   ]
  },
  {
   "cell_type": "code",
   "execution_count": 1,
   "id": "3081e79b",
   "metadata": {},
   "outputs": [],
   "source": [
    "import numpy as np\n",
    "import matplotlib.pyplot as plt\n",
    "import cvxpy as cp"
   ]
  },
  {
   "cell_type": "code",
   "execution_count": 2,
   "id": "354261cb",
   "metadata": {},
   "outputs": [],
   "source": [
    "def H(Q, p, A, b, v, t) :\n",
    "    Av = np.einsum(\"ij, j -> i\", A, v)\n",
    "    m, _ = np.shape(A)\n",
    "    z = 1 / (Av-b)**2\n",
    "    s = np.einsum(\"ij, ik, i -> jk\", A, A, z)\n",
    "    return 2*t*Q + s\n",
    "\n",
    "def grad(Q, p, A, b, v, t) :\n",
    "    Qv = np.einsum(\"ij, j -> i\", Q, v)\n",
    "    Av = np.einsum(\"ij, j -> i\", A, v)\n",
    "    z = 1 / (b-Av)\n",
    "    return 2*t*Qv + t*p + np.einsum(\"ki, k -> i\", A, z)\n",
    "\n",
    "def f(Q, p, A, b, v, t) :\n",
    "    Av = np.einsum(\"ij, j -> i\", A, v)\n",
    "    vQv = np.einsum(\"i, ij, j\", v, Q, v)\n",
    "    pv = np.einsum(\"i,i ->\", p, v)\n",
    "    z = (b-Av)\n",
    "    return t*vQv + t*pv - np.sum(np.log(z))\n",
    "\n",
    "def f0(Q, p, v) :\n",
    "    vQv = np.einsum(\"i, ij, j\", v, Q, v)\n",
    "    pv = np.einsum(\"i,i ->\", p, v)\n",
    "    return vQv + pv \n",
    "\n",
    "def centering_step(Q, p, A, b, t, v0, eps) :\n",
    "    V = [v0]\n",
    "    v = np.copy(v0)\n",
    "    alpha = 0.1\n",
    "    beta = 0.7\n",
    "    u = 1\n",
    "    \n",
    "    # Newton's method\n",
    "    Hessian = H(Q, p, A, b, v, t)\n",
    "    g = grad(Q, p, A, b, v, t)\n",
    "    Hinv = np.linalg.inv(Hessian)\n",
    "    delta_v = -Hinv@g\n",
    "    decrement = -g@delta_v\n",
    "    \n",
    "    while decrement**2/2 > eps : \n",
    "        \n",
    "        fv = f(Q, p, A, b, v, t)\n",
    "        u = 1\n",
    "\n",
    "        # Backtracking line search\n",
    "        while f(Q, p, A, b, v + u*delta_v, t) >= fv - alpha*u*decrement :\n",
    "            u*= beta\n",
    "\n",
    "        # Update\n",
    "        v+=u*delta_v \n",
    "        Hessian = H(Q, p, A, b, v, t) \n",
    "        g = grad(Q, p, A, b, v, t)\n",
    "        Hinv = np.linalg.inv(Hessian) \n",
    "        delta_v = -Hinv@g \n",
    "        decrement = -g@delta_v\n",
    "        V.append(v)\n",
    "    \n",
    "    return V "
   ]
  },
  {
   "cell_type": "code",
   "execution_count": 3,
   "id": "5c959ced",
   "metadata": {},
   "outputs": [],
   "source": [
    "def barr_method(Q, p, A, b, v0, eps, mu=10) :\n",
    "    V = [v0]\n",
    "    m, _ = np.shape(A)\n",
    "    t = 1\n",
    "    vt = np.copy(v0)\n",
    "    k=0\n",
    "    while m/t > eps : \n",
    "        vt = centering_step(Q, p, A, b, t, vt, eps)\n",
    "        V.append(vt[-1])\n",
    "        t *= mu\n",
    "        vt = vt[-1]\n",
    "\n",
    "    return V"
   ]
  },
  {
   "cell_type": "code",
   "execution_count": 95,
   "id": "98be8ded",
   "metadata": {},
   "outputs": [],
   "source": [
    "Lambda = 10\n",
    "d = 1000\n",
    "n = 25\n",
    "X = np.random.normal(size=(n, d)) / 4\n",
    "y = np.random.normal(size=n) / 4\n",
    "\n",
    "Q = np.eye(n)/4\n",
    "p = y\n",
    "A = np.zeros((2*d, n))\n",
    "A[:d,:]= X.T\n",
    "A[d:,:] = -X.T\n",
    "b = Lambda*np.ones(2*d)\n",
    "v = np.random.normal(size=n)"
   ]
  },
  {
   "cell_type": "code",
   "execution_count": 96,
   "id": "aa2cd2a0",
   "metadata": {},
   "outputs": [
    {
     "data": {
      "text/plain": [
       "0.0"
      ]
     },
     "execution_count": 96,
     "metadata": {},
     "output_type": "execute_result"
    }
   ],
   "source": [
    "v = np.zeros(n)\n",
    "f0(Q, p, v)"
   ]
  },
  {
   "cell_type": "code",
   "execution_count": 97,
   "id": "c2ca6424",
   "metadata": {
    "scrolled": false
   },
   "outputs": [
    {
     "name": "stdout",
     "output_type": "stream",
     "text": [
      "-1.3634201799495431\n"
     ]
    },
    {
     "data": {
      "image/png": "[encoded data removed]",
      "text/plain": [
       "<Figure size 432x288 with 1 Axes>"
      ]
     },
     "metadata": {
      "needs_background": "light"
     },
     "output_type": "display_data"
    },
    {
     "name": "stdout",
     "output_type": "stream",
     "text": [
      "-1.363420179951243\n"
     ]
    },
    {
     "data": {
      "image/png": "[encoded data removed]",
      "text/plain": [
       "<Figure size 432x288 with 1 Axes>"
      ]
     },
     "metadata": {
      "needs_background": "light"
     },
     "output_type": "display_data"
    },
    {
     "name": "stdout",
     "output_type": "stream",
     "text": [
      "-1.363420179951104\n"
     ]
    },
    {
     "data": {
      "image/png": "[encoded data removed]",
      "text/plain": [
       "<Figure size 432x288 with 1 Axes>"
      ]
     },
     "metadata": {
      "needs_background": "light"
     },
     "output_type": "display_data"
    },
    {
     "name": "stdout",
     "output_type": "stream",
     "text": [
      "-1.363420179943562\n"
     ]
    },
    {
     "data": {
      "image/png": "[encoded data removed]",
      "text/plain": [
       "<Figure size 432x288 with 1 Axes>"
      ]
     },
     "metadata": {
      "needs_background": "light"
     },
     "output_type": "display_data"
    }
   ],
   "source": [
    "for mu in [2, 15, 50, 100] :\n",
    "    V = barr_method(Q,p,A,b,v0=np.zeros(n),eps=1e-5, mu=mu) \n",
    "\n",
    "    x = []\n",
    "    for v in V : \n",
    "        x.append(f0(Q, p, v))\n",
    "    fig = plt.figure(figsize=(6, 4))\n",
    "    print(f0(Q, p, V[-1]))\n",
    "    plt.plot(np.array(x)[:-1]-x[-1], marker='o')\n",
    "    plt.yscale(\"log\")\n",
    "    plt.show()"
   ]
  },
  {
   "cell_type": "code",
   "execution_count": 98,
   "id": "6e430d4a",
   "metadata": {},
   "outputs": [
    {
     "data": {
      "text/plain": [
       "-1.3634201799513026"
      ]
     },
     "execution_count": 98,
     "metadata": {},
     "output_type": "execute_result"
    }
   ],
   "source": [
    "v = cp.Variable(n)\n",
    "prob = cp.Problem(cp.Minimize(cp.quad_form(v, Q) + p.T @ v),\n",
    "                 [A @ v <= b])\n",
    "prob.solve()"
   ]
  },
  {
   "cell_type": "code",
   "execution_count": 99,
   "id": "69879a0c",
   "metadata": {},
   "outputs": [
    {
     "data": {
      "text/plain": [
       "-1.363420179943562"
      ]
     },
     "execution_count": 99,
     "metadata": {},
     "output_type": "execute_result"
    }
   ],
   "source": [
    "f0(Q, p, V[-1])"
   ]
  },
  {
   "cell_type": "code",
   "execution_count": 100,
   "id": "c02b1a47",
   "metadata": {},
   "outputs": [
    {
     "name": "stdout",
     "output_type": "stream",
     "text": [
      "[ 0.37450671  0.18845105  0.95879974 -0.10850372  0.05410959 -0.39804593\n",
      " -0.27552493 -0.39499814 -0.00714846 -0.75438206  0.18337387 -0.13554441\n",
      "  0.59922166  0.12023031 -0.94580045 -0.28472492  0.10120463 -0.4099561\n",
      "  0.33780449 -0.04346481 -0.00345509 -0.29072286  0.27607577  0.61167306\n",
      " -1.07427392]\n"
     ]
    }
   ],
   "source": [
    "print(v.value)"
   ]
  },
  {
   "cell_type": "code",
   "execution_count": 101,
   "id": "d97e3e9b",
   "metadata": {},
   "outputs": [
    {
     "data": {
      "text/plain": [
       "array([ 0.37450575,  0.18845054,  0.95879747, -0.10850324,  0.05410947,\n",
       "       -0.39804497, -0.27552419, -0.39499718, -0.00714846, -0.75438026,\n",
       "        0.18337343, -0.13554421,  0.59922028,  0.12023011, -0.94579868,\n",
       "       -0.28472415,  0.10120419, -0.40995497,  0.33780368, -0.04346423,\n",
       "       -0.00345528, -0.290722  ,  0.27607515,  0.61167176, -1.07427117])"
      ]
     },
     "execution_count": 101,
     "metadata": {},
     "output_type": "execute_result"
    }
   ],
   "source": [
    "V[-1]"
   ]
  }
 ],
 "metadata": {
  "kernelspec": {
   "display_name": "Python 3 (ipykernel)",
   "language": "python",
   "name": "python3"
  },
  "language_info": {
   "codemirror_mode": {
    "name": "ipython",
    "version": 3
   },
   "file_extension": ".py",
   "mimetype": "text/x-python",
   "name": "python",
   "nbconvert_exporter": "python",
   "pygments_lexer": "ipython3",
   "version": "3.10.12"
  }
 },
 "nbformat": 4,
 "nbformat_minor": 5
}
