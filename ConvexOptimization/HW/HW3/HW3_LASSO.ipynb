{
 "cells": [
  {
   "attachments": {},
   "cell_type": "markdown",
   "id": "a1a6f11a",
   "metadata": {},
   "source": [
    "\\title{}\n",
    "\n",
    "\\section*{Convex Optimization}\n",
    "\\subsection*{Homework 3 : LASSO}\n",
    "\n",
    "\n",
    "<b> Student <b/> : Simon Queric "
   ]
  },
  {
   "attachments": {},
   "cell_type": "markdown",
   "id": "d88a856f",
   "metadata": {},
   "source": [
    "<b> Question 1 </b>\n",
    "\n",
    "The lagrangian of the LASSO problem, with change of variable $u = Xw - y$ and dual variable $v$, is \n",
    "\n",
    "$$ L(w, u, v) = \\frac{1}{2}\\|u\\|^2_2 + \\lambda\\|w\\|_1 + v^T(Xw - y - u)$$\n",
    "\n",
    "According to previous homework, maximizing the lagrangian over $w, u$ gives us the dual function $\\displaystyle g(v) = -\\frac{v^Tv}{2} - y^Tv - I \\left(\\frac{X^Tv}{\\lambda}\\right)$\n",
    "where $$I(x) = 0 \\text{ if } \\|x\\|_{\\infty} \\leq 1 \\text{ and } +\\infty \\text{ otherwise}. $$\n",
    "\n",
    "\n",
    "Hence, the dual of LASSO is :\n",
    "\n",
    "$$ \\max_v -\\frac{v^Tv}{2} - y^Tv $$\n",
    "\n",
    "such that \n",
    "\n",
    "$$ \\|X^Tv\\|_{\\infty} \\leqslant \\lambda  $$\n",
    "\n",
    "$\\Longleftrightarrow$\n",
    "\n",
    "$$ \\begin{pmatrix} X^T \\\\ -X^T \\end{pmatrix} v \\leqslant \\lambda $$\n",
    "\n",
    "It's exactly a quadratic problem with :\n",
    "\n",
    "\\begin{align*}\n",
    "    Q &= \\frac{1}{2}I_n \\\\\n",
    "    p &= y \\\\\n",
    "    A &= \\binom{X^T}{-X^T} \\\\\n",
    "    b &= (\\lambda, \\cdots, \\lambda)^T\n",
    "\\end{align*}\n",
    "\n",
    "\n",
    "#### Derivations of gradient and hessian of for the log-barrier objective function\n",
    "\n",
    "We consider the approximation of the quadratic program via logarithmic barrier. \n",
    "The objective function is : $$f(v) = t(v^TQv + p^Tv) - \\sum_{i=1}^{m}{\\log{(b_i - a_i^Tv)}}$$\n",
    "\n",
    "The gradient of $f$ is equal to $$\\nabla f(v) = 2tQv + tp + \\sum_{i=1}^m{\\frac{a_i}{(b_i - a_i^Tv)}} $$\n",
    "\n",
    "The hessian of $f$ is $$\\nabla^2f(v) = 2tQ + \\sum_{i=1}^m{\\frac{a_ia_i^T}{(b_i - a_i^Tv)^2}}$$"
   ]
  },
  {
   "attachments": {},
   "cell_type": "markdown",
   "id": "ebcc4585",
   "metadata": {},
   "source": [
    "<b> Question 2 </b>"
   ]
  },
  {
   "cell_type": "code",
   "execution_count": 94,
   "id": "3081e79b",
   "metadata": {},
   "outputs": [],
   "source": [
    "import numpy as np\n",
    "import matplotlib.pyplot as plt\n",
    "import cvxpy as cp"
   ]
  },
  {
   "cell_type": "code",
   "execution_count": 95,
   "id": "a7bb1716",
   "metadata": {},
   "outputs": [],
   "source": [
    "def f0(Q, p, v) :\n",
    "    \"\"\"Compute the quadratic form vTQv + pTv\"\"\"\n",
    "\n",
    "    vQv = v@Q@v \n",
    "    pv = p@v\n",
    "    return vQv + pv \n",
    "\n",
    "def f(Q, p, A, b, v, t) :\n",
    "    \"\"\"Compute the quadratic form with a log-barrier penalty\"\"\"\n",
    "    Av = A@v\n",
    "    vQv = v@Q@v \n",
    "    pv = p@v \n",
    "    z = (b-Av)\n",
    "    if np.any(z<0) :\n",
    "        return np.inf\n",
    "    return t*vQv + t*pv - np.sum(np.log(z))\n",
    "\n",
    "def H(Q, p, A, b, v, t) :\n",
    "    \"\"\"Compute the Hessian of f\"\"\"\n",
    "    Av = A@v\n",
    "    m, _ = np.shape(A)\n",
    "    z = 1 / (Av-b)**2\n",
    "    s = np.einsum(\"ij, ik, i -> jk\", A, A, z)\n",
    "    return 2*t*Q + s\n",
    "\n",
    "def grad(Q, p, A, b, v, t) :\n",
    "    \"\"\"Compute the gradient of f\"\"\"\n",
    "    Qv = Q@v\n",
    "    Av = A@v\n",
    "    z = 1 / (b-Av)\n",
    "    return 2*t*Qv + t*p + np.einsum(\"ki, k -> i\", A, z)\n",
    "\n",
    "def centering_step(Q, p, A, b, t, v0, eps) :\n",
    "    \"\"\"Centering step of the log-barrier method for a quadratic program\"\"\"\n",
    "    V = [v0]\n",
    "    v = np.copy(v0)\n",
    "    alpha = 0.1\n",
    "    beta = 0.7\n",
    "    u = 1\n",
    "    \n",
    "    # Newton's method\n",
    "    Hessian = H(Q, p, A, b, v, t)\n",
    "    g = grad(Q, p, A, b, v, t)\n",
    "    Hinv = np.linalg.inv(Hessian)\n",
    "    delta_v = -Hinv@g \n",
    "    decrement = -g@delta_v/2\n",
    "    \n",
    "    k=0\n",
    "    while (decrement >= eps) and (k<20): \n",
    "        k+=1\n",
    "        fv = f(Q, p, A, b, v, t)\n",
    "        u = 1\n",
    "        \n",
    "        # Backtracking line search\n",
    "        while (f(Q, p, A, b, v + u*delta_v, t) > (fv - alpha*u*g@delta_v)) :\n",
    "            u*= beta\n",
    "\n",
    "        # Update\n",
    "        v+=u*delta_v \n",
    "        Hessian = H(Q, p, A, b, v, t) \n",
    "        g = grad(Q, p, A, b, v, t)\n",
    "        Hinv = np.linalg.inv(Hessian)\n",
    "        delta_v = -Hinv@g   \n",
    "        decrement = -g@delta_v/2\n",
    "        V.append(v)\n",
    "        \n",
    "    return V \n",
    "\n",
    "def barr_method(Q, p, A, b, v0, eps, mu=10) :\n",
    "    \"\"\"Implement the log-barrier method for a quadratic program\"\"\"\n",
    "    V = [v0]\n",
    "    m, _ = np.shape(A)\n",
    "    t = 1\n",
    "    vt = np.copy(v0)\n",
    "    while m/t > eps : \n",
    "        vt = centering_step(Q, p, A, b, t, vt, eps)\n",
    "        V+=vt\n",
    "        t *= mu\n",
    "        vt = vt[-1]\n",
    "\n",
    "    \n",
    "    return V"
   ]
  },
  {
   "cell_type": "code",
   "execution_count": 157,
   "id": "98be8ded",
   "metadata": {},
   "outputs": [],
   "source": [
    "# Parameters and data\n",
    "#np.random.seed(42)\n",
    "Lambda = 10\n",
    "d = 500\n",
    "n = 10\n",
    "X = np.random.normal(size=(n, d)) # / 4\n",
    "y = np.random.normal(size=n)+15 #/ 4\n",
    "\n",
    "eps=1e-9\n",
    "Q = np.eye(n)/2\n",
    "p = y\n",
    "A = np.zeros((2*d, n))\n",
    "A[:d,:]= X.T\n",
    "A[d:,:] = -X.T\n",
    "b = Lambda*np.ones(2*d)\n",
    "v = np.random.normal(size=n)"
   ]
  },
  {
   "cell_type": "code",
   "execution_count": 158,
   "id": "d295bdf7",
   "metadata": {},
   "outputs": [
    {
     "data": {
      "text/plain": [
       "957.9665166432452"
      ]
     },
     "execution_count": 158,
     "metadata": {},
     "output_type": "execute_result"
    }
   ],
   "source": [
    "np.linalg.norm(X.T@y)"
   ]
  },
  {
   "cell_type": "code",
   "execution_count": 159,
   "id": "c2ca6424",
   "metadata": {
    "scrolled": false
   },
   "outputs": [
    {
     "name": "stdout",
     "output_type": "stream",
     "text": [
      "280\n",
      "Value of the optimum : -182.2625\n",
      "124\n",
      "Value of the optimum : -182.2625\n",
      "118\n",
      "Value of the optimum : -182.2625\n",
      "115\n",
      "Value of the optimum : -182.2625\n",
      "70\n",
      "Value of the optimum : -182.2625\n",
      "68\n",
      "Value of the optimum : -182.2625\n"
     ]
    },
    {
     "data": {
      "image/png": "[encoded data removed]",
      "text/plain": [
       "<Figure size 720x504 with 1 Axes>"
      ]
     },
     "metadata": {
      "needs_background": "light"
     },
     "output_type": "display_data"
    }
   ],
   "source": [
    "fig = plt.figure(figsize=(10, 7))\n",
    "\n",
    "L=-np.inf\n",
    "for mu in [2.5, 15, 20, 50, 100, 2000] :\n",
    "    V = barr_method(Q, p, A, b, v0=np.zeros(n), eps=eps, mu=mu) \n",
    "    if len(V)>L :\n",
    "        L = len(V)\n",
    "\n",
    "    x = []\n",
    "    for v in V : \n",
    "        x.append(f0(Q, p, v))\n",
    "    print(len(V))\n",
    "    print(\"Value of the optimum : {:.4f}\".format(f0(Q, p, V[-1])))\n",
    "    plt.plot(np.array(x)-np.min(x))\n",
    "    plt.yscale(\"log\")\n",
    "    plt.xlabel(\"Number of steps k\", fontsize=20)\n",
    "    plt.ylabel(\"Value of $f(v_k) - f^*$\", fontsize=20)\n",
    "    plt.title(\"Convergence of the algorithm\", fontsize=20)\n",
    "\n",
    "plt.hlines(eps, 1, L, linestyles='--', color=\"k\", label=\"eps\")\n",
    "plt.legend([\"$\\mu$ = {}\".format(mu) for mu in [2.5, 15, 20, 50, 100, 2000]]+[\"$\\epsilon$\"], fontsize=15)\n",
    "plt.show()"
   ]
  },
  {
   "cell_type": "markdown",
   "id": "17032f5e",
   "metadata": {},
   "source": [
    "Let's check if our implementation of Newton's method is correct, using `cvxpy` library. "
   ]
  },
  {
   "cell_type": "code",
   "execution_count": 160,
   "id": "6e430d4a",
   "metadata": {},
   "outputs": [
    {
     "name": "stdout",
     "output_type": "stream",
     "text": [
      "Value of the optimum : -182.2625\n",
      "Optimal point : [-1.48163596 -2.24122506  0.08928414 -1.60312274 -1.42664813 -2.04950161\n",
      " -1.26367456 -0.67457764 -1.13191262 -1.64197554]\n",
      "Optimal point obtained with a log-barrier method : [-1.48163596 -2.24122506  0.08928414 -1.60312273 -1.42664813 -2.04950161\n",
      " -1.26367456 -0.67457764 -1.13191262 -1.64197554]\n"
     ]
    }
   ],
   "source": [
    "v = cp.Variable(n)\n",
    "prob = cp.Problem(cp.Minimize(cp.quad_form(v, Q) + p.T @ v),\n",
    "                 [A @ v <= b])\n",
    "print(\"Value of the optimum : {:.4f}\".format(prob.solve()))\n",
    "print(\"Optimal point :\", v.value)\n",
    "print(\"Optimal point obtained with a log-barrier method :\", V[-1])"
   ]
  },
  {
   "attachments": {},
   "cell_type": "markdown",
   "id": "070bfda1",
   "metadata": {},
   "source": [
    "We can see above that our implementation is correct.\n",
    "\n",
    "<b> What is a good choice for $\\mu$ ? </b>\n",
    "\n",
    "Heuristically, an appropriate choice for $\\mu$ would be a $\\mu \\geqslant 20$. Indeed, for $\\mu \\geqslant 20$, the total number of steps of the method doesn't change and gives us a linear convergence with a high slope."
   ]
  },
  {
   "attachments": {},
   "cell_type": "markdown",
   "id": "a896d18b",
   "metadata": {},
   "source": [
    "\\subsection*{Recovering $w^*$ from $v^*$}\n",
    "\n",
    "We want to recover $w^*$ from $v^*$. First, let's take a look at cvxpy solution.\n",
    "We have a spare solution as expected."
   ]
  },
  {
   "cell_type": "code",
   "execution_count": 129,
   "id": "cfa3576e",
   "metadata": {},
   "outputs": [
    {
     "name": "stdout",
     "output_type": "stream",
     "text": [
      "Value of the optimum : 340.8627\n"
     ]
    },
    {
     "data": {
      "image/png": "[encoded data removed]",
      "text/plain": [
       "<Figure size 576x432 with 1 Axes>"
      ]
     },
     "metadata": {
      "needs_background": "light"
     },
     "output_type": "display_data"
    }
   ],
   "source": [
    "w = cp.Variable(d)\n",
    "prob = cp.Problem(cp.Minimize(cp.norm2(y - X@w)**2 + Lambda*cp.norm1(w)),\n",
    "                 )\n",
    "print(\"Value of the optimum : {:.4f}\".format(prob.solve(solver=cp.ECOS)))\n",
    "fig = plt.figure(figsize=(8, 6))\n",
    "plt.stem(w.value)\n",
    "plt.show()"
   ]
  },
  {
   "attachments": {},
   "cell_type": "markdown",
   "id": "9fa1aa7a",
   "metadata": {},
   "source": [
    "How can we recover $w^*$ from $v^*$ ?\n",
    "\n",
    "We have the following relation between $w^*$ and $v^*$ from the primal feasibility and computation of dual : \n",
    "\n",
    "\\begin{equation} v^* = Xw^* - y \\end{equation}\n",
    "\n",
    "From the extended KKT conditions, we have : \n",
    "\n",
    "$$ 0 \\in \\partial_{w_i} L(w^*, u^*, v^*) = \\lambda \\cdot \\partial_{w_i^*}{\\|w^*\\|_1} + (X^Tv^*)_i$$\n",
    "\n",
    "Morover, we have $$\\lambda \\cdot \\partial_{w_i^*}{\\|w^*\\|_1} = -(X^Tv^*)_i$$\n",
    "\n",
    "where \n",
    "\n",
    "\\begin{equation*}\n",
    "\\partial_{x_i^*}{\\|x\\|_1} =\n",
    "\\begin{cases}\n",
    "    1 & \\text{ if } x_i > 0 \\\\\n",
    "    -1 & \\text{ if } x_i < 0 \\\\\n",
    "    [-1, 1] & \\text{ if } x_i = 0\n",
    "\\end{cases}\n",
    "\\end{equation*}\n",
    "\n",
    "Hence, $$w_i^* < 0 \\text{ if }(X^Tv^*)_i = \\lambda  $$\n",
    "$$w_i^* > 0 \\text{ if }(X^Tv^*)_i = -\\lambda  $$\n",
    "$$w_i = 0 \\text{ if } (X^Tv^*)_i \\in (-\\lambda, \\lambda) $$\n",
    "\n",
    "Hence, we're searching for a $w^*$ such that $w^* = X^+(v^* + y)$ and the previous conditions on the signs hold."
   ]
  },
  {
   "cell_type": "code",
   "execution_count": 156,
   "id": "067e80b3",
   "metadata": {},
   "outputs": [
    {
     "data": {
      "image/png": "[encoded data removed]",
      "text/plain": [
       "<Figure size 432x288 with 1 Axes>"
      ]
     },
     "metadata": {
      "needs_background": "light"
     },
     "output_type": "display_data"
    }
   ],
   "source": [
    "V = barr_method(Q, p, A, b, v0=np.zeros(n), eps=1e-9, mu=150)\n",
    "signs = np.zeros(d)\n",
    "signs[np.isclose(X.T@V[-1], Lambda)] = -1\n",
    "signs[np.isclose(X.T@V[-1], -Lambda)] = +1\n",
    "w_star = np.linalg.pinv(X)@((V[-1]+y))\n",
    "plt.stem(w_star*np.abs(signs))\n",
    "stem_color = 'r'  # blue\n",
    "marker_color = 'r'  # red\n",
    "plt.stem(w.value, linefmt=f'{stem_color}', markerfmt=f'{marker_color}o')\n",
    "plt.show()"
   ]
  },
  {
   "attachments": {},
   "cell_type": "markdown",
   "id": "5cc999fd",
   "metadata": {},
   "source": [
    "We recover the signs of the lasso optimizer but not the true values."
   ]
  }
 ],
 "metadata": {
  "kernelspec": {
   "display_name": "Python 3 (ipykernel)",
   "language": "python",
   "name": "python3"
  },
  "language_info": {
   "codemirror_mode": {
    "name": "ipython",
    "version": 3
   },
   "file_extension": ".py",
   "mimetype": "text/x-python",
   "name": "python",
   "nbconvert_exporter": "python",
   "pygments_lexer": "ipython3",
   "version": "3.10.12"
  }
 },
 "nbformat": 4,
 "nbformat_minor": 5
}
