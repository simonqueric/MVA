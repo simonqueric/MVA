{
 "cells": [
  {
   "cell_type": "markdown",
   "id": "a1a6f11a",
   "metadata": {},
   "source": [
    "<center>\n",
    "<h1> Convex Optimization </h1>\n",
    "<h2> Homework 3 : LASSO </h2>\n",
    "Student : Simon Queric \n",
    "</center>\n",
    "\n",
    "In order to run this notebook, please use a Python environment with the following packages : \n",
    "- cvxpy \n",
    "- numpy\n",
    "- matplotlib"
   ]
  },
  {
   "attachments": {},
   "cell_type": "markdown",
   "id": "d88a856f",
   "metadata": {},
   "source": [
    "### Question 1\n",
    "\n",
    "The lagrangian of the LASSO problem, with change of variable $u = Xw - y$ and dual variable $v$, is \n",
    "\n",
    "$$ L(w, u, v) = \\frac{1}{2}\\|u\\|^2_2 + \\lambda\\|w\\|_1 + v^T(Xw - y - u)$$\n",
    "\n",
    "Maximizing the lagrangian over $w, u$ gives us the dual function $\\displaystyle g(v) = -\\frac{v^Tv}{2} - y^Tv - I \\left(\\frac{X^Tv}{\\lambda}\\right)$\n",
    "where $I(x) = 0 \\text{ if } \\|x\\|_{\\infty} \\leq 1 \\text{ and } +\\infty \\text{ otherwise} $.\n",
    "\n",
    "\n",
    "Hence, the dual of LASSO is :\n",
    "\n",
    "$$ \\max_v -\\frac{v^Tv}{2} - y^Tv $$\n",
    "\n",
    "such that \n",
    "\n",
    "$$ \\|X^Tv\\|_{\\infty} \\leqslant \\lambda  $$\n",
    "\n",
    "$\\Longleftrightarrow$\n",
    "\n",
    "$$ \\begin{pmatrix} X^T \\\\ -X^T \\end{pmatrix} v \\leqslant \\lambda $$\n",
    "\n",
    "It's exactly a quadratic problem with :\n",
    "\n",
    "\\begin{align*}\n",
    "    Q &= \\frac{1}{2}I_n \\\\\n",
    "    p &= y \\\\\n",
    "    A &= \\binom{X^T}{-X^T} \\\\\n",
    "    b &= (\\lambda, \\cdots, \\lambda)^T\n",
    "\\end{align*}\n",
    "\n",
    "\n",
    "#### Derivations of gradient and hessian of for the log-barrier objective function\n",
    "\n",
    "We consider the approximation of the quadratic program via logarithmic barrier. \n",
    "The objective function is : $$f(v) = t(v^TQv + p^Tv) - \\sum_{i=1}^{m}{\\log{(b_i - a_i^Tv)}}$$\n",
    "\n",
    "The gradient of $f$ is equal to $$\\nabla f(v) = 2tQv + tp + \\sum_{i=1}^m{\\frac{a_i}{(b_i - a_i^Tv)}} $$\n",
    "\n",
    "The hessian of $f$ is $$\\nabla^2f(v) = 2tQ + \\sum_{i=1}^m{\\frac{a_ia_i^T}{(b_i - a_i^Tv)^2}}$$"
   ]
  },
  {
   "attachments": {},
   "cell_type": "markdown",
   "id": "ebcc4585",
   "metadata": {},
   "source": [
    "### Question 2"
   ]
  },
  {
   "cell_type": "code",
   "execution_count": 2,
   "id": "3081e79b",
   "metadata": {},
   "outputs": [],
   "source": [
    "import numpy as np\n",
    "import matplotlib.pyplot as plt\n",
    "import cvxpy as cp"
   ]
  },
  {
   "cell_type": "code",
   "execution_count": 3,
   "id": "354261cb",
   "metadata": {},
   "outputs": [],
   "source": [
    "def f0(Q, p, v) :\n",
    "    \"\"\"Compute the quadratic form vTQv + pTv\"\"\"\n",
    "\n",
    "    vQv = np.einsum(\"i, ij, j\", v, Q, v)\n",
    "    pv = np.einsum(\"i,i ->\", p, v)\n",
    "    return vQv + pv \n",
    "\n",
    "def f(Q, p, A, b, v, t) :\n",
    "    \"\"\"Compute the quadratic form with a log-barrier penalty\"\"\"\n",
    "    Av = np.einsum(\"ij, j -> i\", A, v)\n",
    "    vQv = np.einsum(\"i, ij, j\", v, Q, v)\n",
    "    pv = np.einsum(\"i,i ->\", p, v)\n",
    "    z = (b-Av)\n",
    "    return t*vQv + t*pv - np.sum(np.log(z))\n",
    "\n",
    "def H(Q, p, A, b, v, t) :\n",
    "    \"\"\"Compute the Hessian of f\"\"\"\n",
    "    Av = np.einsum(\"ij, j -> i\", A, v)\n",
    "    m, _ = np.shape(A)\n",
    "    z = 1 / (Av-b)**2\n",
    "    s = np.einsum(\"ij, ik, i -> jk\", A, A, z)\n",
    "    return 2*t*Q + s\n",
    "\n",
    "def grad(Q, p, A, b, v, t) :\n",
    "    \"\"\"Compute the gradient of f\"\"\"\n",
    "    Qv = np.einsum(\"ij, j -> i\", Q, v) # Q@v\n",
    "    Av = np.einsum(\"ij, j -> i\", A, v) # A@v\n",
    "    z = 1 / (b-Av)\n",
    "    return 2*t*Qv + t*p + np.einsum(\"ki, k -> i\", A, z)\n",
    "\n",
    "def centering_step(Q, p, A, b, t, v0, eps) :\n",
    "    \"\"\"Centering step of the log-barrier method for a quadratic program\"\"\"\n",
    "    V = [v0]\n",
    "    v = np.copy(v0)\n",
    "    alpha = 0.1\n",
    "    beta = 0.7\n",
    "    u = 1\n",
    "    \n",
    "    # Newton's method\n",
    "    Hessian = H(Q, p, A, b, v, t)\n",
    "    g = grad(Q, p, A, b, v, t)\n",
    "    Hinv = np.linalg.inv(Hessian)\n",
    "    delta_v = -Hinv@g\n",
    "    decrement = -g@delta_v\n",
    "    \n",
    "    while decrement**2/2 > eps : \n",
    "        \n",
    "        fv = f(Q, p, A, b, v, t)\n",
    "        u = 1\n",
    "\n",
    "        # Backtracking line search\n",
    "        while f(Q, p, A, b, v + u*delta_v, t) >= fv - alpha*u*decrement :\n",
    "            u*= beta\n",
    "\n",
    "        # Update\n",
    "        v+=u*delta_v \n",
    "        Hessian = H(Q, p, A, b, v, t) \n",
    "        g = grad(Q, p, A, b, v, t)\n",
    "        Hinv = np.linalg.inv(Hessian) \n",
    "        delta_v = -Hinv@g \n",
    "        decrement = -g@delta_v\n",
    "        V.append(v)\n",
    "    \n",
    "    return V \n",
    "\n",
    "def barr_method(Q, p, A, b, v0, eps, mu=10) :\n",
    "    \"\"\"Implement the log-barrier method for a quadratic program\"\"\"\n",
    "    V = [v0]\n",
    "    m, _ = np.shape(A)\n",
    "    t = 1\n",
    "    vt = np.copy(v0)\n",
    "    k=0\n",
    "    while m/t > eps : \n",
    "        vt = centering_step(Q, p, A, b, t, vt, eps)\n",
    "        V+=vt\n",
    "        t *= mu\n",
    "        vt = vt[-1]\n",
    " \n",
    "    return V"
   ]
  },
  {
   "cell_type": "code",
   "execution_count": 14,
   "id": "98be8ded",
   "metadata": {},
   "outputs": [],
   "source": [
    "# Parameters and data\n",
    "#np.random.seed(42)\n",
    "Lambda = 10\n",
    "d = 500\n",
    "n = 15\n",
    "y = np.random.uniform(size=n) #/ 4\n",
    "X = np.random.uniform(size=(n, d)) # / 4\n",
    "\n",
    "Q = np.eye(n)/2\n",
    "p = y\n",
    "A = np.zeros((2*d, n))\n",
    "A[:d,:]= X.T\n",
    "A[d:,:] = -X.T\n",
    "b = Lambda*np.ones(2*d)\n",
    "v = np.random.normal(size=n)"
   ]
  },
  {
   "cell_type": "code",
   "execution_count": 15,
   "id": "4ec90b31",
   "metadata": {},
   "outputs": [
    {
     "data": {
      "text/plain": [
       "array([20.43880374, 23.36460682, 19.72383871, 18.04394286, 22.46283482,\n",
       "       20.92224608, 18.82933133, 18.75939244, 18.92399587, 18.94185653,\n",
       "       18.12638677, 15.8534137 , 18.60905017, 22.98243353, 17.57115111])"
      ]
     },
     "execution_count": 15,
     "metadata": {},
     "output_type": "execute_result"
    }
   ],
   "source": [
    "grad(Q, p, A, b, v, t=1)"
   ]
  },
  {
   "cell_type": "code",
   "execution_count": 21,
   "id": "c2ca6424",
   "metadata": {
    "scrolled": false
   },
   "outputs": [
    {
     "name": "stdout",
     "output_type": "stream",
     "text": [
      "57\n",
      "Value of the optimum for mu = 2.5 : -2.5996\n",
      "23\n",
      "Value of the optimum for mu = 15 : -2.5996\n",
      "20\n",
      "Value of the optimum for mu = 20 : -2.5996\n",
      "17\n",
      "Value of the optimum for mu = 50 : -2.5996\n",
      "15\n",
      "Value of the optimum for mu = 100 : -2.5996\n"
     ]
    },
    {
     "data": {
      "image/png": "[encoded data removed]",
      "text/plain": [
       "<Figure size 720x504 with 1 Axes>"
      ]
     },
     "metadata": {
      "needs_background": "light"
     },
     "output_type": "display_data"
    }
   ],
   "source": [
    "fig = plt.figure(figsize=(10, 7))\n",
    "\n",
    "for mu in [2.5, 15, 20, 50, 100] :\n",
    "    V = barr_method(Q, p, A, b, v0=np.zeros(n), eps=1e-8, mu=mu) \n",
    "    x = []\n",
    "    for v in V : \n",
    "        x.append(f0(Q, p, v))\n",
    "    print(len(V))\n",
    "    print(\"Value of the optimum for mu = {} : {:.4f}\".format(mu, f0(Q, p, V[-1])))\n",
    "    plt.plot(np.array(x)[:-1]-x[-1], marker='o')\n",
    "    plt.yscale(\"log\")\n",
    "    plt.xlabel(\"Step k\", fontsize=20)\n",
    "    plt.ylabel(\"Value of $f(v_k) - f^*$\", fontsize=20)\n",
    "    plt.title(\"Convergence of the algorithm\", fontsize=20)\n",
    "\n",
    "plt.legend([\"$\\mu$ = {}\".format(mu) for mu in [2.5, 15, 20, 50, 100]], fontsize=15)\n",
    "plt.show()"
   ]
  },
  {
   "cell_type": "markdown",
   "id": "17032f5e",
   "metadata": {},
   "source": [
    "Let's check if our implementation of Newton's method is correct, using `cvxpy` library. "
   ]
  },
  {
   "cell_type": "code",
   "execution_count": 17,
   "id": "6e430d4a",
   "metadata": {},
   "outputs": [
    {
     "name": "stdout",
     "output_type": "stream",
     "text": [
      "Value of the optimum : -2.5996\n",
      "Optimal point : [-2.32133913e-01 -9.43042527e-04 -7.57150580e-01 -9.85207326e-01\n",
      " -8.09913120e-01 -4.60206618e-01 -9.03767261e-01 -4.09847673e-01\n",
      " -5.24934084e-01 -4.77129767e-01 -4.47623873e-01 -7.75190769e-01\n",
      " -5.26768907e-01 -3.16717122e-01 -2.58158168e-01]\n",
      "Optimal point obtained with a log-barrier method : [-2.32133910e-01 -9.43040075e-04 -7.57150578e-01 -9.85207323e-01\n",
      " -8.09913118e-01 -4.60206616e-01 -9.03767259e-01 -4.09847671e-01\n",
      " -5.24934082e-01 -4.77129765e-01 -4.47623870e-01 -7.75190767e-01\n",
      " -5.26768905e-01 -3.16717119e-01 -2.58158165e-01]\n"
     ]
    }
   ],
   "source": [
    "v = cp.Variable(n)\n",
    "prob = cp.Problem(cp.Minimize(cp.quad_form(v, Q) + p.T @ v),\n",
    "                 [A @ v <= b])\n",
    "print(\"Value of the optimum : {:.4f}\".format(prob.solve()))\n",
    "print(\"Optimal point :\", v.value)\n",
    "print(\"Optimal point obtained with a log-barrier method :\", V[-1])"
   ]
  },
  {
   "attachments": {},
   "cell_type": "markdown",
   "id": "070bfda1",
   "metadata": {},
   "source": [
    "We can see above that our implementation is correct.\n",
    "\n",
    "### What is a good choice for $\\mu$ ?\n",
    "\n",
    "Heuristically, an appropriate choice for $\\mu$ would be a $\\mu \\geqslant 20$. Indeed, for $\\mu \\geqslant 20$, the total number of steps of the method doesn't change and gives us a linear convergence with a high slope."
   ]
  }
 ],
 "metadata": {
  "kernelspec": {
   "display_name": "Python 3 (ipykernel)",
   "language": "python",
   "name": "python3"
  },
  "language_info": {
   "codemirror_mode": {
    "name": "ipython",
    "version": 3
   },
   "file_extension": ".py",
   "mimetype": "text/x-python",
   "name": "python",
   "nbconvert_exporter": "python",
   "pygments_lexer": "ipython3",
   "version": "3.10.12"
  }
 },
 "nbformat": 4,
 "nbformat_minor": 5
}
