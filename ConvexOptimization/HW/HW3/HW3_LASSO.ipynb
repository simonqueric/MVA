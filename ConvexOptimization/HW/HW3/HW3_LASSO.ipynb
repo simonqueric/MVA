{
 "cells": [
  {
   "cell_type": "markdown",
   "id": "a1a6f11a",
   "metadata": {},
   "source": [
    "<center>\n",
    "<h1> Convex Optimization </h1>\n",
    "<h2> Homework 3 : LASSO </h2>\n",
    "Student : Simon Queric \n",
    "</center>\n",
    "\n",
    "In order to run this notebook, please use a Python environment with the following packages : \n",
    "- cvxpy \n",
    "- numpy\n",
    "- matplotlib"
   ]
  },
  {
   "attachments": {},
   "cell_type": "markdown",
   "id": "d88a856f",
   "metadata": {},
   "source": [
    "### Question 1\n",
    "\n",
    "The lagrangian of the LASSO problem, with change of variable $u = Xw - y$ and dual variable $v$, is \n",
    "\n",
    "$$ L(w, u, v) = \\frac{1}{2}\\|u\\|^2_2 + \\lambda\\|w\\|_1 + v^T(Xw - y - u)$$\n",
    "\n",
    "Maximizing the lagrangian over $w, u$ gives us the dual function $\\displaystyle g(v) = -\\frac{v^Tv}{2} - y^Tv - I \\left(\\frac{X^Tv}{\\lambda}\\right)$\n",
    "where $I(x) = 0 \\text{ if } \\|x\\|_{\\infty} \\leq 1 \\text{ and } +\\infty \\text{ otherwise} $.\n",
    "\n",
    "\n",
    "Hence, the dual of LASSO is :\n",
    "\n",
    "$$ \\max_v -\\frac{v^Tv}{2} - y^Tv $$\n",
    "\n",
    "such that \n",
    "\n",
    "$$ \\|X^Tv\\|_{\\infty} \\leqslant \\lambda  $$\n",
    "\n",
    "$\\Longleftrightarrow$\n",
    "\n",
    "$$ \\begin{pmatrix} X^T \\\\ -X^T \\end{pmatrix} v \\leqslant \\lambda $$\n",
    "\n",
    "It's exactly a quadratic problem with :\n",
    "\n",
    "\\begin{align*}\n",
    "    Q &= \\frac{1}{2}I_n \\\\\n",
    "    p &= y \\\\\n",
    "    A &= \\binom{X^T}{-X^T} \\\\\n",
    "\\end{align*}\n",
    "\n",
    "\n",
    "#### Derivations of gradient and hessian of for the log-barrier objective function\n",
    "\n",
    "We consider the approximation of the quadratic program via logarithmic barrier. \n",
    "The objective function is : $$f(v) = t(v^TQv + p^Tv) - \\sum_{i=1}^{m}{\\log{(b_i - a_i^Tv)}}$$\n",
    "\n",
    "The gradient of $f$ is equal to $$\\nabla f(v) = 2tQv + tp + \\sum_{i=1}^m{\\frac{a_i}{(b_i - a_i^Tv)}} $$\n",
    "\n",
    "The hessian of $f$ is $$\\nabla^2f(v) = 2tQ - \\sum_{i=1}^m{\\frac{a_ia_i^T}{(b_i - a_i^Tv)^2}}$$"
   ]
  },
  {
   "attachments": {},
   "cell_type": "markdown",
   "id": "ebcc4585",
   "metadata": {},
   "source": [
    "### Question 2"
   ]
  },
  {
   "cell_type": "code",
   "execution_count": 1,
   "id": "3081e79b",
   "metadata": {},
   "outputs": [],
   "source": [
    "import numpy as np\n",
    "import matplotlib.pyplot as plt\n",
    "import cvxpy as cp"
   ]
  },
  {
   "cell_type": "code",
   "execution_count": 25,
   "id": "354261cb",
   "metadata": {},
   "outputs": [],
   "source": [
    "def f0(Q, p, v) :\n",
    "    \"\"\"Compute the quadratic form vTQv + pTv\"\"\"\n",
    "\n",
    "    vQv = np.einsum(\"i, ij, j\", v, Q, v)\n",
    "    pv = np.einsum(\"i,i ->\", p, v)\n",
    "    return vQv + pv \n",
    "\n",
    "def f(Q, p, A, b, v, t) :\n",
    "    \"\"\"Compute the quadratic form with a log-barrier penalty\"\"\"\n",
    "    Av = np.einsum(\"ij, j -> i\", A, v)\n",
    "    vQv = np.einsum(\"i, ij, j\", v, Q, v)\n",
    "    pv = np.einsum(\"i,i ->\", p, v)\n",
    "    z = (b-Av)\n",
    "    return t*vQv + t*pv - np.sum(np.log(z))\n",
    "\n",
    "def H(Q, p, A, b, v, t) :\n",
    "    \"\"\"Compute the Hessian of f\"\"\"\n",
    "    Av = np.einsum(\"ij, j -> i\", A, v)\n",
    "    m, _ = np.shape(A)\n",
    "    z = 1 / (Av-b)**2\n",
    "    s = np.einsum(\"ij, ik, i -> jk\", A, A, z)\n",
    "    return 2*t*Q + s\n",
    "\n",
    "def grad(Q, p, A, b, v, t) :\n",
    "    \"\"\"Compute the gradient of f\"\"\"\n",
    "    Qv = np.einsum(\"ij, j -> i\", Q, v) # Q@v\n",
    "    Av = np.einsum(\"ij, j -> i\", A, v) # A@v\n",
    "    z = 1 / (b-Av)\n",
    "    return 2*t*Qv + t*p + np.einsum(\"ki, k -> i\", A, z)\n",
    "\n",
    "def centering_step(Q, p, A, b, t, v0, eps) :\n",
    "    \"\"\"Centering step of the log-barrier method for a quadratic program\"\"\"\n",
    "    V = [v0]\n",
    "    v = np.copy(v0)\n",
    "    alpha = 0.1\n",
    "    beta = 0.7\n",
    "    u = 1\n",
    "    \n",
    "    # Newton's method\n",
    "    Hessian = H(Q, p, A, b, v, t)\n",
    "    g = grad(Q, p, A, b, v, t)\n",
    "    Hinv = np.linalg.inv(Hessian)\n",
    "    delta_v = -Hinv@g\n",
    "    decrement = -g@delta_v\n",
    "    \n",
    "    while decrement**2/2 > eps : \n",
    "        \n",
    "        fv = f(Q, p, A, b, v, t)\n",
    "        u = 1\n",
    "\n",
    "        # Backtracking line search\n",
    "        while f(Q, p, A, b, v + u*delta_v, t) >= fv - alpha*u*decrement :\n",
    "            u*= beta\n",
    "\n",
    "        # Update\n",
    "        v+=u*delta_v \n",
    "        Hessian = H(Q, p, A, b, v, t) \n",
    "        g = grad(Q, p, A, b, v, t)\n",
    "        Hinv = np.linalg.inv(Hessian) \n",
    "        delta_v = -Hinv@g \n",
    "        decrement = -g@delta_v\n",
    "        V.append(v)\n",
    "    \n",
    "    return V \n",
    "\n",
    "def barr_method(Q, p, A, b, v0, eps, mu=10) :\n",
    "    \"\"\"Implement the log-barrier method for a quadratic program\"\"\"\n",
    "    V = [v0]\n",
    "    m, _ = np.shape(A)\n",
    "    t = 1\n",
    "    vt = np.copy(v0)\n",
    "    k=0\n",
    "    while m/t > eps : \n",
    "        vt = centering_step(Q, p, A, b, t, vt, eps)\n",
    "        V+=vt\n",
    "        t *= mu\n",
    "        vt = vt[-1]\n",
    " \n",
    "    return V"
   ]
  },
  {
   "cell_type": "code",
   "execution_count": 26,
   "id": "fbc2a944",
   "metadata": {},
   "outputs": [],
   "source": [
    "np.random.seed(42)"
   ]
  },
  {
   "cell_type": "code",
   "execution_count": 27,
   "id": "98be8ded",
   "metadata": {},
   "outputs": [],
   "source": [
    "# Parameters and data\n",
    "np.random.seed(42)\n",
    "Lambda = 10\n",
    "d = 5\n",
    "n = 10\n",
    "y = np.random.uniform(size=n) #/ 4\n",
    "X = np.random.uniform(size=(n, d)) # / 4\n",
    "\n",
    "Q = np.eye(n)/2\n",
    "p = y\n",
    "A = np.zeros((2*d, n))\n",
    "A[:d,:]= X.T\n",
    "A[d:,:] = -X.T\n",
    "b = Lambda*np.ones(2*d)\n",
    "v = np.random.normal(size=n)"
   ]
  },
  {
   "cell_type": "code",
   "execution_count": 28,
   "id": "4ec90b31",
   "metadata": {},
   "outputs": [
    {
     "data": {
      "text/plain": [
       "array([-1.20133942,  0.16732042,  0.21414057,  1.58544565,  0.4190492 ,\n",
       "       -1.67854632,  0.31704525,  0.40544355, -0.22202002,  1.27565749])"
      ]
     },
     "execution_count": 28,
     "metadata": {},
     "output_type": "execute_result"
    }
   ],
   "source": [
    "grad(Q, p, A, b, v, t=1)"
   ]
  },
  {
   "cell_type": "code",
   "execution_count": 31,
   "id": "c2ca6424",
   "metadata": {
    "scrolled": false
   },
   "outputs": [
    {
     "name": "stdout",
     "output_type": "stream",
     "text": [
      "37\n",
      "Value of the optimum : -1.8017\n",
      "16\n",
      "Value of the optimum : -1.8017\n",
      "13\n",
      "Value of the optimum : -1.8017\n",
      "11\n",
      "Value of the optimum : -1.8017\n"
     ]
    },
    {
     "data": {
      "image/png": "[encoded data removed]",
      "text/plain": [
       "<Figure size 720x504 with 1 Axes>"
      ]
     },
     "metadata": {
      "needs_background": "light"
     },
     "output_type": "display_data"
    }
   ],
   "source": [
    "fig = plt.figure(figsize=(10, 7))\n",
    "\n",
    "for mu in [2.5, 15, 50, 100] :\n",
    "    V = barr_method(Q, p, A, b, v0=np.zeros(n), eps=1e-8, mu=mu) \n",
    "    x = []\n",
    "    for v in V : \n",
    "        x.append(f0(Q, p, v))\n",
    "    print(len(V))\n",
    "    print(\"Value of the optimum : {:.4f}\".format(f0(Q, p, V[-1])))\n",
    "    plt.plot(np.array(x)[:-1]-x[-1], marker='o')\n",
    "    plt.yscale(\"log\")\n",
    "    plt.xlabel(\"Number of steps k\", fontsize=20)\n",
    "    plt.ylabel(\"Value of $f(v_k) - f^*$\", fontsize=20)\n",
    "    plt.title(\"Convergence of the algorithm\", fontsize=20)\n",
    "\n",
    "plt.legend([\"$\\mu$ = {}\".format(mu) for mu in [2, 15, 50, 100]], fontsize=15)\n",
    "plt.show()"
   ]
  },
  {
   "cell_type": "markdown",
   "id": "17032f5e",
   "metadata": {},
   "source": [
    "Let's check if our implementation of Newton's method is correct, using `cvxpy` library. "
   ]
  },
  {
   "cell_type": "code",
   "execution_count": 32,
   "id": "6e430d4a",
   "metadata": {},
   "outputs": [
    {
     "name": "stdout",
     "output_type": "stream",
     "text": [
      "Value of the optimum : -1.8017\n",
      "Optimal point : [-0.37454012 -0.95071431 -0.73199394 -0.59865848 -0.15601864 -0.15599452\n",
      " -0.05808361 -0.86617615 -0.60111501 -0.70807258]\n",
      "Optimal point obtained with a log-barrier method : [-0.37454002 -0.95071422 -0.73199384 -0.59865836 -0.15601851 -0.1559944\n",
      " -0.05808353 -0.86617603 -0.6011148  -0.70807249]\n"
     ]
    }
   ],
   "source": [
    "v = cp.Variable(n)\n",
    "prob = cp.Problem(cp.Minimize(cp.quad_form(v, Q) + p.T @ v),\n",
    "                 [A @ v <= b])\n",
    "print(\"Value of the optimum : {:.4f}\".format(prob.solve()))\n",
    "print(\"Optimal point :\", v.value)\n",
    "print(\"Optimal point obtained with a log-barrier method :\", V[-1])"
   ]
  },
  {
   "attachments": {},
   "cell_type": "markdown",
   "id": "070bfda1",
   "metadata": {},
   "source": [
    "We can see above that our implementation is correct.\n",
    "\n",
    "### What is a good choice for $\\mu$ ?\n",
    "\n",
    "Heuristically, an appropriate choice for $\\mu$ would be a $\\mu \\geqslant 15$. Indeed, for $\\mu \\geqslant 15$, the total number of steps of the method doesn't change and gives us a linear convergence with a high slope."
   ]
  }
 ],
 "metadata": {
  "kernelspec": {
   "display_name": "Python 3 (ipykernel)",
   "language": "python",
   "name": "python3"
  },
  "language_info": {
   "codemirror_mode": {
    "name": "ipython",
    "version": 3
   },
   "file_extension": ".py",
   "mimetype": "text/x-python",
   "name": "python",
   "nbconvert_exporter": "python",
   "pygments_lexer": "ipython3",
   "version": "3.10.12"
  }
 },
 "nbformat": 4,
 "nbformat_minor": 5
}
