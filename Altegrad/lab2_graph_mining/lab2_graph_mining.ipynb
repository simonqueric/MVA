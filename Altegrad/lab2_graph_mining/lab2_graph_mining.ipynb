{
 "cells": [
  {
   "attachments": {},
   "cell_type": "markdown",
   "id": "f2bd56e0",
   "metadata": {},
   "source": [
    "# ALTEGRAD - Lab 2 : Graph Mining\n",
    "## October 2023\n",
    "\n",
    "Student : Simon Queric"
   ]
  },
  {
   "cell_type": "code",
   "execution_count": 1,
   "id": "3d6a7903",
   "metadata": {},
   "outputs": [],
   "source": [
    "import networkx as nx\n",
    "from networkx.drawing.layout import bipartite_layout\n",
    "import matplotlib.pyplot as plt\n",
    "import numpy as np\n",
    "from scipy.sparse.linalg import eigs\n",
    "from scipy.sparse import diags, eye\n",
    "from random import randint\n",
    "from sklearn.cluster import KMeans\n",
    "from sklearn.model_selection import train_test_split\n",
    "from sklearn.svm import SVC\n",
    "from sklearn.metrics import accuracy_score"
   ]
  },
  {
   "cell_type": "markdown",
   "id": "9ebe8d95",
   "metadata": {},
   "source": [
    "## Part 1 : Analysing a Real-World Graph"
   ]
  },
  {
   "cell_type": "code",
   "execution_count": 2,
   "id": "0dcb4d67",
   "metadata": {},
   "outputs": [
    {
     "name": "stdout",
     "output_type": "stream",
     "text": [
      "Number of nodes : 9877\n",
      "Number of edges : 25998\n"
     ]
    }
   ],
   "source": [
    "##### Task 1 #####\n",
    "\n",
    "file = \"datasets/CA-HepTh.txt\"\n",
    "\n",
    "G = nx.read_edgelist(file) \n",
    "\n",
    "print(\"Number of nodes :\", len(G.nodes))\n",
    "print(\"Number of edges :\", len(G.edges))"
   ]
  },
  {
   "cell_type": "code",
   "execution_count": 3,
   "id": "165314dc",
   "metadata": {},
   "outputs": [
    {
     "name": "stdout",
     "output_type": "stream",
     "text": [
      "Number of connected components : 429\n"
     ]
    }
   ],
   "source": [
    "#### Task 2 ####\n",
    "\n",
    "cc = nx.connected_components(G)\n",
    "cc = sorted(nx.connected_components(G), key=len, reverse=True)\n",
    "\n",
    "print(\"Number of connected components :\", len(cc))\n",
    "\n",
    "\n",
    "largest_cc = nx.induced_subgraph(G, cc[0]) ## largest components of G"
   ]
  },
  {
   "cell_type": "code",
   "execution_count": 4,
   "id": "18e50fb2",
   "metadata": {},
   "outputs": [
    {
     "name": "stdout",
     "output_type": "stream",
     "text": [
      "Statistics :\n",
      "Minimum degree : 1\n",
      "Maximum degree : 65\n",
      "Mean degree : 5.264351523742027\n",
      "Median degree : 3.0\n"
     ]
    }
   ],
   "source": [
    "#### Task 3 ####\n",
    "\n",
    "# Degree #\n",
    "degree_sequence = [G.degree(node) for node in G.nodes()]\n",
    "\n",
    "print(\"Statistics :\")\n",
    "\n",
    "print(\"Minimum degree :\", np.min(degree_sequence))\n",
    "print(\"Maximum degree :\", np.max(degree_sequence))\n",
    "print(\"Mean degree :\", np.mean(degree_sequence))\n",
    "print(\"Median degree :\", np.median(degree_sequence))"
   ]
  },
  {
   "cell_type": "code",
   "execution_count": 5,
   "id": "6dbd0872",
   "metadata": {},
   "outputs": [
    {
     "data": {
      "image/png": "[encoded data removed]",
      "text/plain": [
       "<Figure size 648x432 with 1 Axes>"
      ]
     },
     "metadata": {
      "needs_background": "light"
     },
     "output_type": "display_data"
    }
   ],
   "source": [
    "#### Task 4 ####\n",
    "\n",
    "fig = plt.figure(figsize=(9, 6))\n",
    "degree_hist = nx.degree_histogram(G)\n",
    "plt.title(\"Histogram of degree sequences of CA-HepTh collaboration network\")\n",
    "plt.hist(degree_sequence, edgecolor=\"k\")\n",
    "plt.show()"
   ]
  },
  {
   "cell_type": "code",
   "execution_count": 6,
   "id": "12a4d00d",
   "metadata": {},
   "outputs": [
    {
     "data": {
      "image/png": "[encoded data removed]",
      "text/plain": [
       "<Figure size 648x432 with 1 Axes>"
      ]
     },
     "metadata": {
      "needs_background": "light"
     },
     "output_type": "display_data"
    }
   ],
   "source": [
    "fig = plt.figure(figsize=(9, 6))\n",
    "degree_hist = nx.degree_histogram(G)\n",
    "plt.title(\"Histogram of degree sequences of CA-HepTh collaboration network\")\n",
    "plt.hist(degree_sequence, log=True, edgecolor=\"k\")\n",
    "plt.show()"
   ]
  },
  {
   "cell_type": "code",
   "execution_count": 9,
   "id": "b8a59e21",
   "metadata": {},
   "outputs": [
    {
     "name": "stdout",
     "output_type": "stream",
     "text": [
      "Global Clustering coefficient og G : 0.2840\n"
     ]
    }
   ],
   "source": [
    "#### Task 5 ####\n",
    "\n",
    "clustering_coefficient = nx.transitivity(G)\n",
    "\n",
    "print(\"Global Clustering coefficient og G : {:.4f}\".format(clustering_coefficient))"
   ]
  },
  {
   "cell_type": "markdown",
   "id": "5dcc3b53",
   "metadata": {},
   "source": [
    "## Part 2 : Community Detection"
   ]
  },
  {
   "cell_type": "code",
   "execution_count": 10,
   "id": "22510789",
   "metadata": {},
   "outputs": [],
   "source": [
    "#### Task 6 ####\n",
    "# Perform spectral clustering to partition graph G into k clusters\n",
    "def spectral_clustering(G, k):\n",
    "    nodes = list(G.nodes)\n",
    "    n = len(nodes)\n",
    "    A = nx.to_numpy_array(G) # compute adjacency matrix\n",
    "    d = A@np.ones(n)\n",
    "    D = np.diag(1/d)\n",
    "    M = np.dot(D, A)\n",
    "    L = np.eye(n) - M # compute laplacian matrix\n",
    "    eigvalues, U = np.linalg.eig(L)\n",
    "    #plt.plot(np.sort(np.real(eigvalues)), 'x')\n",
    "    indices = np.argsort(np.real(eigvalues))\n",
    "    U = np.real(U)\n",
    "    U = U[:, indices]\n",
    "    kmeans = KMeans(n_clusters=k, n_init=\"auto\").fit(U[:,:k])\n",
    "    labels = kmeans.labels_\n",
    "    clustering = {nodes[i] : labels[i] for i in range(n)}\n",
    "    \n",
    "    return clustering"
   ]
  },
  {
   "cell_type": "code",
   "execution_count": 12,
   "id": "c5559832",
   "metadata": {
    "scrolled": true
   },
   "outputs": [
    {
     "data": {
      "image/png": "[encoded data removed]",
      "text/plain": [
       "<Figure size 432x288 with 1 Axes>"
      ]
     },
     "metadata": {
      "needs_background": "light"
     },
     "output_type": "display_data"
    }
   ],
   "source": [
    "#### Task 7 ####\n",
    "\n",
    "clustering = spectral_clustering(largest_cc, k=50)"
   ]
  },
  {
   "cell_type": "code",
   "execution_count": 48,
   "id": "7ebce122",
   "metadata": {},
   "outputs": [],
   "source": [
    "#### Task 8 ####\n",
    "# Compute modularity value from graph G based on clustering\n",
    "def modularity(G, clustering):\n",
    "    m = len(G.edges)\n",
    "    cluster = np.array(list(clustering.values()))\n",
    "    degree_seq = np.array([G.degree(node) for node in G.nodes()])\n",
    "    k = max(clustering.values())+1 # number of clusters\n",
    "    Q = 0\n",
    "    for c in range(k) :\n",
    "        nodes_c = [v for (v, i) in clustering.items() if i==c ]\n",
    "        lc = len(nx.induced_subgraph(G, nodes_c).edges)\n",
    "        #lc = len(G.subgraph(nodes_c).edges)\n",
    "        dc = np.sum(degree_seq*(cluster==c)) \n",
    "        Q += lc/m - (dc/(2*m))**2\n",
    "        \n",
    "    return Q"
   ]
  },
  {
   "cell_type": "code",
   "execution_count": 49,
   "id": "3d23597f",
   "metadata": {},
   "outputs": [
    {
     "name": "stdout",
     "output_type": "stream",
     "text": [
      "Modularity of the Spectral Clustering : 0.1550\n",
      "Modularity of the random clustering : 0.0001\n"
     ]
    }
   ],
   "source": [
    "#### Task 9 ####\n",
    "m = len(largest_cc.edges)\n",
    "n = len(largest_cc.nodes)\n",
    "nodes = list(largest_cc.nodes)\n",
    "random_clustering = [randint(0, 49) for _ in range(n)]\n",
    "random_clustering = {nodes[i] : random_clustering[i] for i in range(n)}\n",
    "print(\"Modularity of the Spectral Clustering : {:.4f}\".format(modularity(largest_cc, clustering)))\n",
    "print(\"Modularity of the random clustering : {:.4f}\".format(modularity(largest_cc, random_clustering)))"
   ]
  },
  {
   "attachments": {},
   "cell_type": "markdown",
   "id": "e902282e",
   "metadata": {},
   "source": [
    "The modularity of the random clustering is 0 while the modularity of the spectral clustering is 0.16. It shows that the spectral clustering succeed to detect community structures in the CA-HepTh collaboration network i.e groups of scientists that work together."
   ]
  },
  {
   "cell_type": "markdown",
   "id": "f73da418",
   "metadata": {},
   "source": [
    "## Part 3 : Graph classification using Graph Kernels"
   ]
  },
  {
   "cell_type": "code",
   "execution_count": 66,
   "id": "f35d229d",
   "metadata": {},
   "outputs": [],
   "source": [
    "#### Task 10 ####\n",
    "# Generate simple dataset\n",
    "def create_dataset():\n",
    "    Gs = list()\n",
    "    y = list()\n",
    "    for n in range(3, 103):\n",
    "        Gs.append(nx.cycle_graph(n))\n",
    "        y.append(0) # The label of a cycle is 0\n",
    "        Gs.append(nx.path_graph(n))\n",
    "        y.append(1) # The label of a path is 1\n",
    "        \n",
    "    return Gs, y\n",
    "\n",
    "\n",
    "Gs, y = create_dataset()\n",
    "G_train, G_test, y_train, y_test = train_test_split(Gs, y, test_size=0.1)\n",
    "\n",
    "# Compute the shortest path kernel\n",
    "def shortest_path_kernel(Gs_train, Gs_test):    \n",
    "    all_paths = dict()\n",
    "    sp_counts_train = dict()\n",
    "    \n",
    "    for i,G in enumerate(Gs_train):\n",
    "        sp_lengths = dict(nx.shortest_path_length(G))\n",
    "        sp_counts_train[i] = dict()\n",
    "        nodes = G.nodes()\n",
    "        for v1 in nodes:\n",
    "            for v2 in nodes:\n",
    "                if v2 in sp_lengths[v1]:\n",
    "                    length = sp_lengths[v1][v2]\n",
    "                    if length in sp_counts_train[i]:\n",
    "                        sp_counts_train[i][length] += 1\n",
    "                    else:\n",
    "                        sp_counts_train[i][length] = 1\n",
    "\n",
    "                    if length not in all_paths:\n",
    "                        all_paths[length] = len(all_paths)\n",
    "                        \n",
    "    sp_counts_test = dict()\n",
    "\n",
    "    for i,G in enumerate(Gs_test):\n",
    "        sp_lengths = dict(nx.shortest_path_length(G))\n",
    "        sp_counts_test[i] = dict()\n",
    "        nodes = G.nodes()\n",
    "        for v1 in nodes:\n",
    "            for v2 in nodes:\n",
    "                if v2 in sp_lengths[v1]:\n",
    "                    length = sp_lengths[v1][v2]\n",
    "                    if length in sp_counts_test[i]:\n",
    "                        sp_counts_test[i][length] += 1\n",
    "                    else:\n",
    "                        sp_counts_test[i][length] = 1\n",
    "\n",
    "                    if length not in all_paths:\n",
    "                        all_paths[length] = len(all_paths)\n",
    "\n",
    "    phi_train = np.zeros((len(Gs_train), len(all_paths)))\n",
    "    for i in range(len(Gs_train)):\n",
    "        for length in sp_counts_train[i]:\n",
    "            phi_train[i,all_paths[length]] = sp_counts_train[i][length]\n",
    "    \n",
    "  \n",
    "    phi_test = np.zeros((len(Gs_test), len(all_paths)))\n",
    "    for i in range(len(Gs_test)):\n",
    "        for length in sp_counts_test[i]:\n",
    "            phi_test[i,all_paths[length]] = sp_counts_test[i][length]\n",
    "\n",
    "    K_train = np.dot(phi_train, phi_train.T)\n",
    "    K_test = np.dot(phi_test, phi_train.T)\n",
    "\n",
    "    return K_train, K_test"
   ]
  },
  {
   "cell_type": "code",
   "execution_count": 67,
   "id": "6e68f8e4",
   "metadata": {},
   "outputs": [],
   "source": [
    "#### Task  ####\n",
    "# Compute the graphlet kernel\n",
    "def graphlet_kernel(Gs_train, Gs_test, n_samples=200):\n",
    "    graphlets = [nx.Graph(), nx.Graph(), nx.Graph(), nx.Graph()]\n",
    "    \n",
    "    graphlets[0].add_nodes_from(range(3))\n",
    "\n",
    "    graphlets[1].add_nodes_from(range(3))\n",
    "    graphlets[1].add_edge(0,1)\n",
    "\n",
    "    graphlets[2].add_nodes_from(range(3))\n",
    "    graphlets[2].add_edge(0,1)\n",
    "    graphlets[2].add_edge(1,2)\n",
    "\n",
    "    graphlets[3].add_nodes_from(range(3))\n",
    "    graphlets[3].add_edge(0,1)\n",
    "    graphlets[3].add_edge(1,2)\n",
    "    graphlets[3].add_edge(0,2)\n",
    "\n",
    "    \n",
    "    phi_train = np.zeros((len(G_train), 4))\n",
    "\n",
    "    for i in range(len(Gs_train)) :\n",
    "        G = Gs_train[i]\n",
    "        for n in range(n_samples) :\n",
    "            sample_graphlet = G.subgraph(np.random.choice(G.nodes, size=3, replace=False))\n",
    "            if nx.is_isomorphic(sample_graphlet, graphlets[0]) :\n",
    "                phi_train[i, 0]+=1\n",
    "            if nx.is_isomorphic(sample_graphlet, graphlets[1]) :\n",
    "                phi_train[i, 1]+=1\n",
    "            if nx.is_isomorphic(sample_graphlet, graphlets[2]) :\n",
    "                phi_train[i, 2]+=1\n",
    "            if nx.is_isomorphic(sample_graphlet, graphlets[3]) :\n",
    "                phi_train[i, 3]+=1\n",
    "\n",
    "    phi_test = np.zeros((len(G_test), 4))\n",
    "    \n",
    "    for i in range(len(Gs_test)) :\n",
    "        G = Gs_test[i]\n",
    "        for n in range(n_samples) :\n",
    "            sample_graphlet = G.subgraph(np.random.choice(G.nodes, size=3, replace=False))\n",
    "            if nx.is_isomorphic(sample_graphlet, graphlets[0]) :\n",
    "                phi_test[i, 0]+=1\n",
    "            if nx.is_isomorphic(sample_graphlet, graphlets[1]) :\n",
    "                phi_test[i, 1]+=1\n",
    "            if nx.is_isomorphic(sample_graphlet, graphlets[2]) :\n",
    "                phi_test[i, 2]+=1\n",
    "            if nx.is_isomorphic(sample_graphlet, graphlets[3]) :\n",
    "                phi_test[i, 3]+=1\n",
    "\n",
    "\n",
    "    K_train = np.dot(phi_train, phi_train.T)\n",
    "    K_test = np.dot(phi_test, phi_train.T)\n",
    "\n",
    "    return K_train, K_test\n",
    "\n",
    "\n",
    "K_train_sp, K_test_sp = shortest_path_kernel(G_train, G_test)"
   ]
  },
  {
   "cell_type": "code",
   "execution_count": 68,
   "id": "5771587b",
   "metadata": {},
   "outputs": [],
   "source": [
    "#### Task 12 ####\n",
    "\n",
    "K_train_g, K_test_g = graphlet_kernel(G_train, G_test)"
   ]
  },
  {
   "cell_type": "code",
   "execution_count": 69,
   "id": "b7874935",
   "metadata": {},
   "outputs": [],
   "source": [
    "#### Task 13 ####\n",
    "\n",
    "# Intialize SVM and train\n",
    "clf_sp = SVC(kernel=\"precomputed\")\n",
    "clf_sp.fit(K_train_sp, y_train)\n",
    "\n",
    "clf_g = SVC(kernel=\"precomputed\")\n",
    "clf_g.fit(K_train_g, y_train)\n",
    "\n",
    "# Predictions with the two different classifiers (shortest path kernel and graphlet kernel)\n",
    "\n",
    "y_pred_sp = clf_sp.predict(K_test_sp)\n",
    "y_pred_g = clf_sp.predict(K_test_g)"
   ]
  },
  {
   "cell_type": "code",
   "execution_count": 72,
   "id": "e0d69346",
   "metadata": {},
   "outputs": [
    {
     "name": "stdout",
     "output_type": "stream",
     "text": [
      "Accuracy of the shortest path method : 0.95\n",
      "Accuracy of the graphlet methode :  0.5\n"
     ]
    }
   ],
   "source": [
    "print(\"Accuracy of the shortest path method :\", accuracy_score(y_pred_sp,  y_test))\n",
    "print(\"Accuracy of the graphlet methode : \", accuracy_score(y_pred_g,  y_test))"
   ]
  },
  {
   "attachments": {},
   "cell_type": "markdown",
   "id": "4cf9b411",
   "metadata": {},
   "source": [
    "We can see that the KSP classifier is a good classifier with accuracy equal to 0.95, while the graphlet classifier is bad because it is not better than a random classifier with accuracy equal to 0.5. \n",
    "\n",
    "We can explain that.\n",
    "\n",
    "First, cycle graphs and path graphs have a lot of graphlets $G_2, G_3$ and $G_4$ in common and none of these graphs has graphlet $G_1$.\n",
    "\n",
    "On the other hand, the maximum length of shortest path on $C_n$ is $n/2$ while the maximum length of a shortest path in $P_n$ is $n$. In a cycle, shortest paths tend to be smaller than on a path. It means that shortest paths distinguish cycles from paths graphs. \n",
    "\n",
    "It explains why the shortest path classifier is better than the graphlet method."
   ]
  }
 ],
 "metadata": {
  "kernelspec": {
   "display_name": "Python 3 (ipykernel)",
   "language": "python",
   "name": "python3"
  },
  "language_info": {
   "codemirror_mode": {
    "name": "ipython",
    "version": 3
   },
   "file_extension": ".py",
   "mimetype": "text/x-python",
   "name": "python",
   "nbconvert_exporter": "python",
   "pygments_lexer": "ipython3",
   "version": "3.10.12"
  }
 },
 "nbformat": 4,
 "nbformat_minor": 5
}
