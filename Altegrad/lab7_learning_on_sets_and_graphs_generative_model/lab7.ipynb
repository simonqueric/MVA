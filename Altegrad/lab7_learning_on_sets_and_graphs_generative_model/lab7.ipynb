{
 "cells": [
  {
   "attachments": {},
   "cell_type": "markdown",
   "metadata": {},
   "source": [
    "<center>\n",
    "    <h2>ALTeGraD 2023<br>Lab Session 7: Learning on Sets and Graph Generative\n",
    "Models (2/2)</h2> Tuesday, November 28, 2023 <br>Lecture: Prof. Michalis Vazirgiannis <br>\n",
    "Lab: Dr. Giannis Nikolentzos & Dr. Johannes Lutzeyer <br> <br>\n",
    "<b>Student name:</b> Simon Queric\n",
    "</center>"
   ]
  },
  {
   "cell_type": "code",
   "execution_count": 9,
   "metadata": {},
   "outputs": [],
   "source": [
    "import numpy as np\n",
    "import matplotlib.pyplot as plt\n",
    "from sklearn.metrics import accuracy_score, mean_absolute_error\n",
    "import torch.optim as optim\n",
    "import torch\n",
    "import torch.nn as nn\n",
    "import torch.nn.functional as F\n",
    "import time\n",
    "import networkx as nx\n",
    "import scipy.sparse as sp\n",
    "from random import shuffle\n",
    "from scipy.io import loadmat"
   ]
  },
  {
   "cell_type": "code",
   "execution_count": 47,
   "metadata": {},
   "outputs": [],
   "source": [
    "def create_train_dataset():\n",
    "    n_train = 100000\n",
    "    max_train_card = 10\n",
    "\n",
    "    ############## Task 1\n",
    "    \n",
    "    X_train = np.zeros((n_train, max_train_card))\n",
    "    y_train = np.zeros(n_train)\n",
    "\n",
    "    for k in range(n_train) :\n",
    "        c = np.random.randint(1, 11)\n",
    "        X_train[k,max_train_card-c:] = np.random.randint(1, 11, size=c)\n",
    "        y_train[k] = np.sum(X_train[k])\n",
    "    return X_train, y_train\n",
    "\n",
    "\n",
    "def create_test_dataset():\n",
    "    \n",
    "    ############## Task 2\n",
    "    \n",
    "    n_test = 200_000\n",
    "    max_test_card = 100\n",
    "\n",
    "    ############## Task 1\n",
    "    \n",
    "    X_test = []\n",
    "    y_test = []\n",
    "\n",
    "    for i in range(20) :\n",
    "        c = 5*(i+1)\n",
    "        X_test.append(np.random.randint(1, 11, size=(10_000, c)))\n",
    "        y_test.append(np.sum(X_test[i], axis=1))\n",
    "\n",
    "    return X_test, y_test"
   ]
  },
  {
   "cell_type": "code",
   "execution_count": 4,
   "metadata": {},
   "outputs": [],
   "source": [
    "class DeepSets(nn.Module):\n",
    "    def __init__(self, input_dim, embedding_dim, hidden_dim):\n",
    "        super(DeepSets, self).__init__()\n",
    "        self.embedding = nn.Embedding(input_dim, embedding_dim)\n",
    "        self.fc1 = nn.Linear(embedding_dim, hidden_dim)\n",
    "        self.fc2 = nn.Linear(hidden_dim, 1)\n",
    "        self.tanh = nn.Tanh()\n",
    "\n",
    "    def forward(self, x):\n",
    "        \n",
    "        ############## Task 3\n",
    "\n",
    "        x = self.embedding(x)\n",
    "        x = self.tanh(self.fc1(x))\n",
    "        x = torch.sum(x, axis=1)\n",
    "        x = self.fc2(x)\n",
    "\n",
    "        return x.squeeze()\n",
    "\n",
    "\n",
    "class LSTM(nn.Module):\n",
    "    def __init__(self, input_dim, embedding_dim, hidden_dim):\n",
    "        super(LSTM, self).__init__()\n",
    "\n",
    "        self.embedding = nn.Embedding(input_dim, embedding_dim)\n",
    "        self.lstm = nn.LSTM(embedding_dim, hidden_dim, batch_first=True)\n",
    "        self.fc = nn.Linear(hidden_dim, 1)\n",
    "\n",
    "    def forward(self, x):\n",
    "        \n",
    "        ############## Task 4\n",
    "        x = self.embedding(x)\n",
    "        _, (x, _) = self.lstm(x)\n",
    "        x = self.fc(x)\n",
    "        return x.squeeze()"
   ]
  },
  {
   "cell_type": "code",
   "execution_count": 30,
   "metadata": {},
   "outputs": [
    {
     "name": "stdout",
     "output_type": "stream",
     "text": [
      "Epoch: 0001 loss_train: 0.9441 time: 1.4085s\n",
      "Epoch: 0002 loss_train: 0.0734 time: 1.3185s\n",
      "Epoch: 0003 loss_train: 0.0554 time: 1.3340s\n",
      "Epoch: 0004 loss_train: 0.0475 time: 1.3130s\n",
      "Epoch: 0005 loss_train: 0.0416 time: 1.3585s\n",
      "Epoch: 0006 loss_train: 0.0415 time: 1.3632s\n",
      "Epoch: 0007 loss_train: 0.0366 time: 1.4201s\n",
      "Epoch: 0008 loss_train: 0.0352 time: 1.3698s\n",
      "Epoch: 0009 loss_train: 0.0335 time: 1.3703s\n",
      "Epoch: 0010 loss_train: 0.0354 time: 1.4073s\n",
      "Epoch: 0011 loss_train: 0.0334 time: 1.3694s\n",
      "Epoch: 0012 loss_train: 0.0330 time: 1.3471s\n",
      "Epoch: 0013 loss_train: 0.0319 time: 1.3613s\n",
      "Epoch: 0014 loss_train: 0.0313 time: 1.3345s\n",
      "Epoch: 0015 loss_train: 0.0302 time: 1.3848s\n",
      "Epoch: 0016 loss_train: 0.0304 time: 1.4112s\n",
      "Epoch: 0017 loss_train: 0.0289 time: 1.4463s\n",
      "Epoch: 0018 loss_train: 0.0289 time: 1.4404s\n",
      "Epoch: 0019 loss_train: 0.0266 time: 1.4460s\n",
      "Epoch: 0020 loss_train: 0.0268 time: 1.4627s\n",
      "Finished training for DeepSets model\n"
     ]
    }
   ],
   "source": [
    "# Initializes device\n",
    "device = torch.device(\"cuda\") if torch.cuda.is_available() else torch.device(\"cpu\")\n",
    "\n",
    "# Hyperparameters\n",
    "epochs = 20\n",
    "batch_size = 64\n",
    "embedding_dim = 128\n",
    "hidden_dim = 64\n",
    "learning_rate = 0.001\n",
    "\n",
    "# Generates training data\n",
    "X_train, y_train = create_train_dataset()\n",
    "n_train = 100000\n",
    "n_digits = 11\n",
    "\n",
    "# Initializes DeepSets model and optimizer\n",
    "deepsets = DeepSets(n_digits, embedding_dim, hidden_dim).to(device)\n",
    "optimizer = optim.Adam(deepsets.parameters(), lr=learning_rate)\n",
    "loss_function = nn.L1Loss()\n",
    "\n",
    "# Trains the DeepSets model\n",
    "for epoch in range(epochs):\n",
    "    t = time.time()\n",
    "    deepsets.train()\n",
    "     \n",
    "    train_loss = 0\n",
    "    count = 0\n",
    "    idx = np.random.permutation(n_train)\n",
    "    for i in range(0, n_train, batch_size):\n",
    "        \n",
    "        ############## Task 5\n",
    "    \n",
    "        x_batch = X_train[idx[i]:min(idx[i]+batch_size, n_train)]\n",
    "        y_batch = y_train[idx[i]:min(idx[i]+batch_size, n_train)]\n",
    "\n",
    "        x_batch = torch.LongTensor(x_batch).to(device)\n",
    "        y_batch = torch.FloatTensor(y_batch).to(device)\n",
    "\n",
    "        optimizer.zero_grad()\n",
    "        output = deepsets(x_batch)\n",
    "        loss = loss_function(output, y_batch)\n",
    "        loss.backward()\n",
    "        optimizer.step()\n",
    "        train_loss += loss.item() * output.size(0)\n",
    "        count += output.size(0)\n",
    "    \n",
    "    print('Epoch: {:04d}'.format(epoch+1),\n",
    "          'loss_train: {:.4f}'.format(train_loss / count),\n",
    "          'time: {:.4f}s'.format(time.time() - t))\n",
    "\n",
    "# Stores DeepSets model into disk\n",
    "torch.save({\n",
    "    'state_dict': deepsets.state_dict(),\n",
    "    'optimizer' : optimizer.state_dict(),\n",
    "}, 'model_deepsets.pth.tar')\n",
    "\n",
    "print(\"Finished training for DeepSets model\")"
   ]
  },
  {
   "cell_type": "code",
   "execution_count": 49,
   "metadata": {},
   "outputs": [
    {
     "name": "stdout",
     "output_type": "stream",
     "text": [
      "Epoch: 0001 loss_train: 5.9676 time: 4.2506s\n",
      "Epoch: 0002 loss_train: 0.2698 time: 4.1017s\n",
      "Epoch: 0003 loss_train: 0.1408 time: 4.5767s\n",
      "Epoch: 0004 loss_train: 0.1142 time: 5.5309s\n",
      "Epoch: 0005 loss_train: 0.0998 time: 5.7313s\n",
      "Epoch: 0006 loss_train: 0.0950 time: 4.3430s\n",
      "Epoch: 0007 loss_train: 0.0911 time: 4.4613s\n",
      "Epoch: 0008 loss_train: 0.0850 time: 4.5155s\n",
      "Epoch: 0009 loss_train: 0.0828 time: 4.4013s\n",
      "Epoch: 0010 loss_train: 0.0803 time: 4.2953s\n",
      "Epoch: 0011 loss_train: 0.0801 time: 4.0173s\n",
      "Epoch: 0012 loss_train: 0.0783 time: 4.4695s\n",
      "Epoch: 0013 loss_train: 0.0748 time: 5.2883s\n",
      "Epoch: 0014 loss_train: 0.0764 time: 5.4183s\n",
      "Epoch: 0015 loss_train: 0.0731 time: 5.2076s\n",
      "Epoch: 0016 loss_train: 0.0704 time: 5.1055s\n",
      "Epoch: 0017 loss_train: 0.0717 time: 5.4124s\n",
      "Epoch: 0018 loss_train: 0.0699 time: 5.1588s\n",
      "Epoch: 0019 loss_train: 0.0712 time: 4.8965s\n",
      "Epoch: 0020 loss_train: 0.0680 time: 4.7473s\n",
      "Finished training for LSTM model\n"
     ]
    }
   ],
   "source": [
    "# Initializes LSTM model and optimizer\n",
    "lstm = LSTM(n_digits, embedding_dim, hidden_dim).to(device)\n",
    "optimizer = optim.Adam(lstm.parameters(), lr=learning_rate)\n",
    "loss_function = nn.L1Loss()\n",
    "\n",
    "# Trains the LSTM model\n",
    "for epoch in range(epochs):\n",
    "    t = time.time()\n",
    "    lstm.train()\n",
    "     \n",
    "    train_loss = 0\n",
    "    count = 0\n",
    "    idx = np.random.permutation(n_train)\n",
    "    for i in range(0, n_train, batch_size):\n",
    "    \n",
    "        ############## Task 5\n",
    "        \n",
    "        x_batch = X_train[idx[i]:min(idx[i]+batch_size, n_train)]\n",
    "        y_batch = y_train[idx[i]:min(idx[i]+batch_size, n_train)]\n",
    "        x_batch = torch.LongTensor(x_batch).to(device)\n",
    "        y_batch = torch.FloatTensor(y_batch).to(device)\n",
    "\n",
    "        \n",
    "        optimizer.zero_grad()\n",
    "        output = lstm(x_batch)\n",
    "        loss = loss_function(output, y_batch)\n",
    "        loss.backward()\n",
    "        optimizer.step()\n",
    "        train_loss += loss.item() * output.size(0)\n",
    "        count += output.size(0)\n",
    "    \n",
    "    print('Epoch: {:04d}'.format(epoch+1),\n",
    "          'loss_train: {:.4f}'.format(train_loss / count),\n",
    "          'time: {:.4f}s'.format(time.time() - t))\n",
    "\n",
    "# Stores LSTM model into disk\n",
    "torch.save({\n",
    "    'state_dict': lstm.state_dict(),\n",
    "    'optimizer' : optimizer.state_dict(),\n",
    "}, 'model_lstm.pth.tar')\n",
    "\n",
    "print(\"Finished training for LSTM model\")"
   ]
  },
  {
   "cell_type": "code",
   "execution_count": 54,
   "metadata": {},
   "outputs": [
    {
     "name": "stdout",
     "output_type": "stream",
     "text": [
      "Loading DeepSets checkpoint!\n",
      "Loading LSTM checkpoint!\n"
     ]
    }
   ],
   "source": [
    "# Initializes device\n",
    "device = torch.device(\"cuda\") if torch.cuda.is_available() else torch.device(\"cpu\")\n",
    "\n",
    "# Hyperparameters\n",
    "batch_size = 64\n",
    "embedding_dim = 128\n",
    "hidden_dim = 64\n",
    "\n",
    "# Generates test data\n",
    "X_test, y_test = create_test_dataset()\n",
    "cards = [X_test[i].shape[1] for i in range(len(X_test))]\n",
    "n_samples_per_card = X_test[0].shape[0]\n",
    "n_digits = 11\n",
    "\n",
    "# Retrieves DeepSets model\n",
    "deepsets = DeepSets(n_digits, embedding_dim, hidden_dim).to(device)\n",
    "print(\"Loading DeepSets checkpoint!\")\n",
    "checkpoint = torch.load('model_deepsets.pth.tar')\n",
    "deepsets.load_state_dict(checkpoint['state_dict'])\n",
    "deepsets.eval()\n",
    "\n",
    "# Retrieves LSTM model\n",
    "lstm = LSTM(n_digits, embedding_dim, hidden_dim).to(device)\n",
    "print(\"Loading LSTM checkpoint!\")\n",
    "checkpoint = torch.load('model_lstm.pth.tar')\n",
    "lstm.load_state_dict(checkpoint['state_dict'])\n",
    "lstm.eval()\n",
    "\n",
    "# Dict to store the results\n",
    "results = {'deepsets': {'acc':[], 'mae':[]}, 'lstm': {'acc':[], 'mae':[]}}"
   ]
  },
  {
   "cell_type": "code",
   "execution_count": 55,
   "metadata": {},
   "outputs": [],
   "source": [
    "for i in range(len(cards)) :\n",
    "    y_pred_deepsets = list()\n",
    "    for j in range(0, n_samples_per_card, batch_size):\n",
    "        \n",
    "        ############## Task 6\n",
    "        x_batch = X_test[i][j:min(j+batch_size, n_samples_per_card)]\n",
    "        x_batch = torch.LongTensor(x_batch).to(device)\n",
    "        \n",
    "        output = deepsets(x_batch)\n",
    "        y_pred_deepsets.append(output)        \n",
    "                \n",
    "    y_pred_deepsets = torch.cat(y_pred_deepsets)\n",
    "    y_pred_deepsets = y_pred_deepsets.detach().cpu().numpy()    \n",
    "    \n",
    "    acc_deepsets = accuracy_score(y_test[i], np.round(y_pred_deepsets))\n",
    "    mae_deepsets = mean_absolute_error(y_test[i], y_pred_deepsets)\n",
    "    results['deepsets']['acc'].append(acc_deepsets)\n",
    "    results['deepsets']['mae'].append(mae_deepsets)"
   ]
  },
  {
   "cell_type": "code",
   "execution_count": 56,
   "metadata": {},
   "outputs": [],
   "source": [
    "for i in range(10) : \n",
    "    y_pred_lstm = list()\n",
    "    for j in range(0, n_samples_per_card, batch_size):\n",
    "        \n",
    "        ############## Task 6\n",
    "        x_batch = torch.from_numpy(X_test[i][j:j+batch_size])\n",
    "        x_batch = torch.LongTensor(x_batch).to(device)\n",
    "\n",
    "        output = lstm(x_batch)\n",
    "        y_pred_lstm.append(output)\n",
    "\n",
    "    y_pred_lstm = torch.cat(y_pred_lstm)\n",
    "    y_pred_lstm = y_pred_lstm.detach().cpu().numpy()\n",
    "    \n",
    "    acc_lstm = accuracy_score(y_test[i], np.round(y_pred_lstm))\n",
    "    mae_lstm = mean_absolute_error(y_test[i], y_pred_lstm)\n",
    "    results['lstm']['acc'].append(acc_lstm)\n",
    "    results['lstm']['mae'].append(mae_lstm)"
   ]
  },
  {
   "cell_type": "code",
   "execution_count": 57,
   "metadata": {},
   "outputs": [
    {
     "data": {
      "image/png": "[encoded data removed]",
      "text/plain": [
       "<Figure size 864x576 with 1 Axes>"
      ]
     },
     "metadata": {
      "needs_background": "light"
     },
     "output_type": "display_data"
    }
   ],
   "source": [
    "############## Task 7\n",
    "fig = plt.figure(figsize=(12, 8))   \n",
    "plt.plot(cards, results[\"deepsets\"][\"acc\"], marker=\"o\")\n",
    "plt.plot(cards, results[\"deepsets\"][\"mae\"], marker=\"o\", ls='--')\n",
    "plt.title(\"Evaluation of Deepsets model\")\n",
    "plt.xlabel(\"cardinality\")\n",
    "plt.ylabel(\"metric\")\n",
    "plt.legend([\"accuracy\", \"mean absolute error\"])\n",
    "plt.show()"
   ]
  },
  {
   "cell_type": "code",
   "execution_count": 58,
   "metadata": {},
   "outputs": [
    {
     "data": {
      "image/png": "[encoded data removed]",
      "text/plain": [
       "<Figure size 864x576 with 1 Axes>"
      ]
     },
     "metadata": {
      "needs_background": "light"
     },
     "output_type": "display_data"
    }
   ],
   "source": [
    "fig = plt.figure(figsize=(12, 8))   \n",
    "plt.plot(cards[:10], results[\"lstm\"][\"acc\"], marker=\"o\")\n",
    "plt.plot(cards[:10], results[\"lstm\"][\"mae\"], marker=\"o\", ls='--')\n",
    "plt.title(\"Evaluation of LSTM model\")\n",
    "plt.legend([\"accuracy\", \"mean absolute error\"])\n",
    "plt.xlabel(\"cardinality\")\n",
    "plt.ylabel(\"metric\")\n",
    "plt.show()"
   ]
  },
  {
   "attachments": {},
   "cell_type": "markdown",
   "metadata": {},
   "source": [
    "### Partie 2"
   ]
  },
  {
   "cell_type": "code",
   "execution_count": 6,
   "metadata": {},
   "outputs": [],
   "source": [
    "def normalize_adjacency(A):\n",
    "    # Normalizes adjacency matrix represnted as a sparse SciPy matrix\n",
    "    n = A.shape[0]\n",
    "    A += sp.identity(n)\n",
    "    degs = A.dot(np.ones(n))\n",
    "    inv_degs = np.power(degs, -1)\n",
    "    D_inv = sp.diags(inv_degs)\n",
    "    A_normalized = D_inv.dot(A)\n",
    "    return A_normalized\n",
    "\n",
    "def sparse_mx_to_torch_sparse(M):\n",
    "    # Converts a sparse SciPy matrix to a sparse PyTorch tensor\n",
    "    M = M.tocoo().astype(np.float32)\n",
    "    indices = torch.from_numpy(np.vstack((M.row, M.col)).astype(np.int64))\n",
    "    values = torch.from_numpy(M.data)\n",
    "    shape = torch.Size(M.shape)\n",
    "    return torch.sparse.FloatTensor(indices, values, shape)\n",
    "\n",
    "def find_communities_and_plot(G):\n",
    "    # Compute the best partition using Louvain algorithm\n",
    "    partition = nx.community.louvain_communities(G)\n",
    "    \n",
    "    # Reorder the adjacency matrix\n",
    "    ordered_nodes = list()\n",
    "    for p in partition:\n",
    "        for node in p:\n",
    "            ordered_nodes.append(node)\n",
    "    \n",
    "    reordered_matrix = nx.to_numpy_array(G, nodelist=ordered_nodes)\n",
    "    \n",
    "    # Plot adjacency matrix\n",
    "    plt.imshow(reordered_matrix, cmap='gray')\n",
    "    plt.title(\"Reordered Adjacency Matrix\")\n",
    "    plt.show()\n",
    "\n",
    "    # Draw the graph\n",
    "    plt.title('Generated graph')\n",
    "    nx.draw(G)\n",
    "    plt.show()"
   ]
  },
  {
   "cell_type": "code",
   "execution_count": 77,
   "metadata": {},
   "outputs": [],
   "source": [
    "# Decoder\n",
    "class Decoder(nn.Module):\n",
    "    def __init__(self, latent_dim, hidden_dim, n_layers, n_nodes, dropout=0.2):\n",
    "        super(Decoder, self).__init__()\n",
    "        self.n_layers = n_layers\n",
    "        self.n_nodes = n_nodes\n",
    "        self.hidden_dim = hidden_dim\n",
    "\n",
    "        self.fc = nn.ModuleList()\n",
    "        self.fc.append(nn.Sequential(nn.Linear(latent_dim, hidden_dim),  \n",
    "                            nn.ReLU(),\n",
    "                            nn.LayerNorm(hidden_dim), \n",
    "                            nn.Dropout(dropout)\n",
    "                            ))\n",
    "\n",
    "        for i in range(1, n_layers):\n",
    "            self.fc.append(nn.Sequential(nn.Linear(hidden_dim*i, hidden_dim*(i+1)),  \n",
    "                            nn.ReLU(),\n",
    "                            nn.LayerNorm(hidden_dim*(i+1)), \n",
    "                            nn.Dropout(dropout)\n",
    "                            ))\n",
    "        \n",
    "        self.fc_proj = nn.Linear(hidden_dim*n_layers, n_nodes*n_nodes)\n",
    "        self.dropout = nn.Dropout(dropout)\n",
    "        self.relu = nn.ReLU()\n",
    "    \n",
    "    def forward(self, x):\n",
    "        ############## Task 10\n",
    "    \n",
    "        for layer in range(self.n_layers):\n",
    "            x = self.fc[layer](x)\n",
    "\n",
    "        x = self.fc_proj(x)\n",
    "        x = self.dropout(x)\n",
    "        h, _ = np.shape(x)\n",
    "\n",
    "        adj = x.reshape((h, self.n_nodes, self.n_nodes))\n",
    "        \n",
    "        return (adj+torch.transpose(adj, 1, 2))/2\n",
    "\n",
    "# Encoder\n",
    "class Encoder(nn.Module):\n",
    "    def __init__(self, input_dim, hidden_dim, latent_dim, n_layers, dropout=0.2):\n",
    "        super(Encoder, self).__init__()\n",
    "        self.n_layers = n_layers        \n",
    "        self.mlps = torch.nn.ModuleList()\n",
    "        self.mlps.append(nn.Sequential(nn.Linear(input_dim, hidden_dim),  \n",
    "                            nn.ReLU(),\n",
    "                            nn.Linear(hidden_dim, hidden_dim), \n",
    "                            nn.ReLU()\n",
    "                            ))\n",
    "\n",
    "        for layer in range(n_layers-1):\n",
    "            self.mlps.append(nn.Sequential(nn.Linear(hidden_dim, hidden_dim),  \n",
    "                            nn.ReLU(),\n",
    "                            nn.Linear(hidden_dim, hidden_dim), \n",
    "                            nn.ReLU()\n",
    "                            ))\n",
    "\n",
    "        self.fc = nn.Linear(hidden_dim, hidden_dim)\n",
    "        self.relu = nn.ReLU()\n",
    "\n",
    "    def forward(self, adj, x, idx):\n",
    "        ############## Task 8\n",
    "    \n",
    "        for layer in range(self.n_layers):\n",
    "            x = self.mlps[layer](adj@x)\n",
    "\n",
    "        # Readout\n",
    "        idx = idx.unsqueeze(1).repeat(1, x.size(1))\n",
    "        out = torch.zeros(torch.max(idx)+1, x.size(1), device=x.device, requires_grad=False)\n",
    "        out = out.scatter_add_(0, idx, x)\n",
    "        \n",
    "        out = self.fc(out)\n",
    "        return out\n",
    "\n",
    "\n",
    "# Variational Autoencoder\n",
    "class VariationalAutoEncoder(nn.Module):\n",
    "    def __init__(self, input_dim, hidden_dim_enc, hidden_dim_dec, latent_dim, n_layers_enc, n_layers_dec, n_max_nodes):\n",
    "        super(VariationalAutoEncoder, self).__init__()\n",
    "        self.n_max_nodes = n_max_nodes\n",
    "        self.input_dim = input_dim\n",
    "        self.encoder = Encoder(input_dim, hidden_dim_enc, hidden_dim_enc, n_layers_enc)\n",
    "        self.fc_mu = nn.Linear(hidden_dim_enc, latent_dim)\n",
    "        self.fc_logvar = nn.Linear(hidden_dim_enc, latent_dim)\n",
    "        self.decoder = Decoder(latent_dim, hidden_dim_dec, n_layers_dec, n_max_nodes) \n",
    "\n",
    "    def reparameterize(self, mu, logvar, eps_scale=1.):\n",
    "        if self.training:\n",
    "            std = logvar.mul(0.5).exp_()\n",
    "            eps = torch.randn_like(std) * eps_scale\n",
    "            return eps.mul(std).add_(mu)\n",
    "        else:\n",
    "            return mu\n",
    "\n",
    "    def decode(self, mu):\n",
    "        adj = self.decoder(mu)\n",
    "        adj = torch.sigmoid(adj)\n",
    "        adj = adj * (1 - torch.eye(adj.size(-2), adj.size(-1), device=adj.device))\n",
    "        return adj\n",
    "\n",
    "    def loss_function(self, adj, x, idx, y, beta=0.05):\n",
    "        x_g  = self.encoder(adj, x, idx)\n",
    "        \n",
    "        ############## Task 9\n",
    "\n",
    "        mu = self.fc_mu(x_g)\n",
    "        logvar = self.fc_logvar(x_g)\n",
    "        \n",
    "        x_g = self.reparameterize(mu, logvar)\n",
    "        adj = self.decoder(x_g)\n",
    "        \n",
    "        triu_idx = torch.triu_indices(self.n_max_nodes, self.n_max_nodes)\n",
    "        recon = F.binary_cross_entropy_with_logits(y[:,triu_idx[0,:],triu_idx[1,:]], adj[:,triu_idx[0,:],triu_idx[1,:]], reduction='sum', pos_weight=torch.tensor(1./0.4))\n",
    "        kld = -0.5 * torch.sum(1 + logvar - mu.pow(2) - logvar.exp())\n",
    "        loss = recon + beta*kld\n",
    "\n",
    "        return loss, recon, kld"
   ]
  },
  {
   "cell_type": "code",
   "execution_count": 78,
   "metadata": {},
   "outputs": [
    {
     "name": "stdout",
     "output_type": "stream",
     "text": [
      "Epoch: 0005, Train Loss: -6877.97607, Train Reconstruction Loss: -6881.12, Train KLD Loss: 62.83, Val Loss: -8046.52295, Val Reconstruction Loss: -8049.80, Val KLD Loss: 65.62\n",
      "Epoch: 0010, Train Loss: -22198.67578, Train Reconstruction Loss: -22201.15, Train KLD Loss: 49.53, Val Loss: -23881.19922, Val Reconstruction Loss: -23883.68, Val KLD Loss: 49.62\n",
      "Epoch: 0015, Train Loss: -45106.79688, Train Reconstruction Loss: -45109.12, Train KLD Loss: 46.53, Val Loss: -47248.95312, Val Reconstruction Loss: -47251.33, Val KLD Loss: 47.52\n",
      "Epoch: 0020, Train Loss: -75838.25000, Train Reconstruction Loss: -75840.45, Train KLD Loss: 43.82, Val Loss: -78154.59375, Val Reconstruction Loss: -78157.00, Val KLD Loss: 48.13\n",
      "Epoch: 0025, Train Loss: -114284.41406, Train Reconstruction Loss: -114286.45, Train KLD Loss: 40.60, Val Loss: -116428.86719, Val Reconstruction Loss: -116430.98, Val KLD Loss: 42.18\n",
      "Epoch: 0030, Train Loss: -159394.64062, Train Reconstruction Loss: -159396.22, Train KLD Loss: 31.49, Val Loss: -161708.90625, Val Reconstruction Loss: -161710.94, Val KLD Loss: 40.71\n",
      "Epoch: 0035, Train Loss: -211130.40625, Train Reconstruction Loss: -211131.75, Train KLD Loss: 27.22, Val Loss: -213717.21875, Val Reconstruction Loss: -213718.72, Val KLD Loss: 30.14\n",
      "Epoch: 0040, Train Loss: -269045.43750, Train Reconstruction Loss: -269047.22, Train KLD Loss: 35.50, Val Loss: -272201.34375, Val Reconstruction Loss: -272203.31, Val KLD Loss: 39.04\n",
      "Epoch: 0045, Train Loss: -335835.71875, Train Reconstruction Loss: -335837.06, Train KLD Loss: 27.00, Val Loss: -337069.84375, Val Reconstruction Loss: -337071.28, Val KLD Loss: 28.77\n",
      "Epoch: 0050, Train Loss: -407312.18750, Train Reconstruction Loss: -407313.41, Train KLD Loss: 24.44, Val Loss: -407701.78125, Val Reconstruction Loss: -407702.94, Val KLD Loss: 23.36\n",
      "Epoch: 0055, Train Loss: -484126.78125, Train Reconstruction Loss: -484128.41, Train KLD Loss: 32.85, Val Loss: -484177.03125, Val Reconstruction Loss: -484178.78, Val KLD Loss: 35.29\n",
      "Epoch: 0060, Train Loss: -569088.56250, Train Reconstruction Loss: -569090.50, Train KLD Loss: 38.60, Val Loss: -566307.25000, Val Reconstruction Loss: -566309.06, Val KLD Loss: 36.12\n",
      "Epoch: 0065, Train Loss: -657956.62500, Train Reconstruction Loss: -657957.88, Train KLD Loss: 24.67, Val Loss: -653852.18750, Val Reconstruction Loss: -653853.50, Val KLD Loss: 25.87\n",
      "Epoch: 0070, Train Loss: -746761.68750, Train Reconstruction Loss: -746763.06, Train KLD Loss: 27.92, Val Loss: -746223.12500, Val Reconstruction Loss: -746224.62, Val KLD Loss: 30.22\n",
      "Epoch: 0075, Train Loss: -844625.31250, Train Reconstruction Loss: -844627.00, Train KLD Loss: 33.60, Val Loss: -843600.06250, Val Reconstruction Loss: -843601.81, Val KLD Loss: 34.66\n",
      "Epoch: 0080, Train Loss: -951399.37500, Train Reconstruction Loss: -951400.56, Train KLD Loss: 23.80, Val Loss: -945854.25000, Val Reconstruction Loss: -945855.44, Val KLD Loss: 23.17\n",
      "Epoch: 0085, Train Loss: -1060099.75000, Train Reconstruction Loss: -1060100.88, Train KLD Loss: 23.37, Val Loss: -1052972.12500, Val Reconstruction Loss: -1052973.38, Val KLD Loss: 25.46\n",
      "Epoch: 0090, Train Loss: -1173608.37500, Train Reconstruction Loss: -1173609.38, Train KLD Loss: 20.65, Val Loss: -1164533.37500, Val Reconstruction Loss: -1164534.75, Val KLD Loss: 25.25\n",
      "Epoch: 0095, Train Loss: -1289716.00000, Train Reconstruction Loss: -1289717.62, Train KLD Loss: 31.94, Val Loss: -1280522.50000, Val Reconstruction Loss: -1280524.12, Val KLD Loss: 32.26\n",
      "Epoch: 0100, Train Loss: -1410548.00000, Train Reconstruction Loss: -1410548.75, Train KLD Loss: 16.76, Val Loss: -1401004.62500, Val Reconstruction Loss: -1401005.88, Val KLD Loss: 25.30\n"
     ]
    },
    {
     "data": {
      "text/plain": [
       "VariationalAutoEncoder(\n",
       "  (encoder): Encoder(\n",
       "    (mlps): ModuleList(\n",
       "      (0): Sequential(\n",
       "        (0): Linear(in_features=2, out_features=32, bias=True)\n",
       "        (1): ReLU()\n",
       "        (2): Linear(in_features=32, out_features=32, bias=True)\n",
       "        (3): ReLU()\n",
       "      )\n",
       "      (1): Sequential(\n",
       "        (0): Linear(in_features=32, out_features=32, bias=True)\n",
       "        (1): ReLU()\n",
       "        (2): Linear(in_features=32, out_features=32, bias=True)\n",
       "        (3): ReLU()\n",
       "      )\n",
       "    )\n",
       "    (fc): Linear(in_features=32, out_features=32, bias=True)\n",
       "    (relu): ReLU()\n",
       "  )\n",
       "  (fc_mu): Linear(in_features=32, out_features=16, bias=True)\n",
       "  (fc_logvar): Linear(in_features=32, out_features=16, bias=True)\n",
       "  (decoder): Decoder(\n",
       "    (fc): ModuleList(\n",
       "      (0): Sequential(\n",
       "        (0): Linear(in_features=16, out_features=32, bias=True)\n",
       "        (1): ReLU()\n",
       "        (2): LayerNorm((32,), eps=1e-05, elementwise_affine=True)\n",
       "        (3): Dropout(p=0.2, inplace=False)\n",
       "      )\n",
       "      (1): Sequential(\n",
       "        (0): Linear(in_features=32, out_features=64, bias=True)\n",
       "        (1): ReLU()\n",
       "        (2): LayerNorm((64,), eps=1e-05, elementwise_affine=True)\n",
       "        (3): Dropout(p=0.2, inplace=False)\n",
       "      )\n",
       "    )\n",
       "    (fc_proj): Linear(in_features=64, out_features=1600, bias=True)\n",
       "    (dropout): Dropout(p=0.2, inplace=False)\n",
       "    (relu): ReLU()\n",
       "  )\n",
       ")"
      ]
     },
     "execution_count": 78,
     "metadata": {},
     "output_type": "execute_result"
    }
   ],
   "source": [
    "np.random.seed(13)\n",
    "\n",
    "device = torch.device('cuda' if torch.cuda.is_available() else 'cpu')\n",
    "\n",
    "# Hyperparameters\n",
    "epochs = 100\n",
    "batch_size = 32\n",
    "hidden_dim_encoder = 32\n",
    "n_layers_encoder = 2\n",
    "latent_dim = 16\n",
    "hidden_dim_decoder = 32\n",
    "n_layers_decoder = 2\n",
    "max_nodes = 40\n",
    "input_feats = 2\n",
    "\n",
    "# Load dataset\n",
    "adj_dict = loadmat(\"../code/data/sbm.mat\")\n",
    "adj = [adj_dict['G'+str(i)] for i in range(1000)]\n",
    "n_graphs = len(adj)\n",
    "\n",
    "# Normalize adjacency matrices\n",
    "adj_normalized = [normalize_adjacency(adj[i]) for i in range(len(adj))]\n",
    "\n",
    "# Compute node features\n",
    "x = list()\n",
    "for i in range(len(adj)):\n",
    "    n = adj[i].shape[0]\n",
    "    v = np.zeros((n,2))\n",
    "    v[:,0] = adj[i].dot(np.ones(n))/max_nodes\n",
    "    v[:,1] = adj[i].dot(v[:,0])/max_nodes\n",
    "    x.append(v)\n",
    "\n",
    "# Slit into training and validation sets\n",
    "idx = np.random.permutation(n_graphs)\n",
    "train_idx = [int(i) for i in idx[:int(0.9*idx.size)]]\n",
    "val_idx = [int(i) for i in idx[int(0.9*idx.size):]]\n",
    "\n",
    "n_train = len(train_idx)\n",
    "n_val = len(val_idx)\n",
    "\n",
    "# Initialize autoencoder\n",
    "autoencoder = VariationalAutoEncoder(input_feats, hidden_dim_encoder, hidden_dim_decoder, latent_dim, n_layers_encoder, n_layers_decoder, max_nodes).to(device)\n",
    "optimizer = torch.optim.Adam(autoencoder.parameters(), lr=0.001)\n",
    "\n",
    "# Train autoencoder\n",
    "best_val_loss = np.inf\n",
    "for epoch in range(1, epochs+1):\n",
    "    autoencoder.train()\n",
    "    train_loss_all = 0\n",
    "    train_count = 0\n",
    "    train_loss_all_recon = 0\n",
    "    train_loss_all_kld = 0\n",
    "\n",
    "    shuffle(train_idx)\n",
    "\n",
    "    for i in range(0, n_train, batch_size):\n",
    "        adj_batch = list()\n",
    "        x_batch = list()\n",
    "        idx_batch = list()\n",
    "        y_batch = list()\n",
    "        for j in range(i, min(n_train, i+batch_size)):\n",
    "            n = adj[train_idx[j]].shape[0]\n",
    "            adj_batch.append(adj_normalized[train_idx[j]])\n",
    "            x_batch.append(x[train_idx[j]])\n",
    "            idx_batch += [j-i]*n\n",
    "            y_batch.append(np.expand_dims(np.pad(adj[train_idx[j]].todense(), ((0,max_nodes-n),(0,max_nodes-n))), axis=0))\n",
    "        adj_batch = sp.block_diag(adj_batch)\n",
    "        x_batch = np.vstack(x_batch)\n",
    "        y_batch = np.vstack(y_batch)\n",
    "\n",
    "        adj_batch = sparse_mx_to_torch_sparse(adj_batch).to(device)\n",
    "        x_batch = torch.FloatTensor(x_batch).to(device)\n",
    "        idx_batch = torch.LongTensor(idx_batch).to(device)\n",
    "        y_batch = torch.FloatTensor(y_batch).to(device)\n",
    "        \n",
    "        \n",
    "        optimizer.zero_grad()\n",
    "        loss, recon, kld  = autoencoder.loss_function(adj_batch, x_batch, idx_batch, y_batch)\n",
    "        train_loss_all_recon += recon.item()\n",
    "        train_loss_all_kld += kld.item()\n",
    "        loss.backward()\n",
    "        train_loss_all += loss.item()\n",
    "        train_count += torch.max(idx_batch)+1\n",
    "        optimizer.step()\n",
    "\n",
    "    autoencoder.eval()\n",
    "    val_loss_all = 0\n",
    "    val_count = 0\n",
    "    val_loss_all_recon = 0\n",
    "    val_loss_all_kld = 0\n",
    "\n",
    "    for i in range(0, n_val, batch_size):\n",
    "        adj_batch = list()\n",
    "        x_batch = list()\n",
    "        idx_batch = list()\n",
    "        y_batch = list()\n",
    "        for j in range(i, min(n_val, i+batch_size)):\n",
    "            n = adj[val_idx[j]].shape[0]\n",
    "            adj_batch.append(adj_normalized[val_idx[j]])\n",
    "            x_batch.append(x[val_idx[j]])\n",
    "            idx_batch += [j-i]*n\n",
    "            y_batch.append(np.expand_dims(np.pad(adj[val_idx[j]].todense(), ((0,max_nodes-n),(0,max_nodes-n))), axis=0))\n",
    "        \n",
    "        adj_batch = sp.block_diag(adj_batch)\n",
    "        x_batch = np.vstack(x_batch)\n",
    "        y_batch = np.vstack(y_batch)\n",
    "\n",
    "        adj_batch = sparse_mx_to_torch_sparse(adj_batch).to(device)\n",
    "        x_batch = torch.FloatTensor(x_batch).to(device)\n",
    "        idx_batch = torch.LongTensor(idx_batch).to(device)\n",
    "        y_batch = torch.FloatTensor(y_batch).to(device)\n",
    "\n",
    "        loss, recon, kld  = autoencoder.loss_function(adj_batch, x_batch, idx_batch, y_batch)\n",
    "        val_loss_all_recon += recon.item()\n",
    "        val_loss_all_kld += kld.item()\n",
    "        val_loss_all += loss.item()\n",
    "        val_count += torch.max(idx_batch)+1\n",
    "\n",
    "    if epoch % 5 == 0:\n",
    "        print('Epoch: {:04d}, Train Loss: {:.5f}, Train Reconstruction Loss: {:.2f}, Train KLD Loss: {:.2f}, Val Loss: {:.5f}, Val Reconstruction Loss: {:.2f}, Val KLD Loss: {:.2f}'.format(epoch, train_loss_all/train_count, train_loss_all_recon/train_count, train_loss_all_kld/train_count, val_loss_all/val_count, val_loss_all_recon/val_count, val_loss_all_kld/val_count))\n",
    "        \n",
    "autoencoder.eval()"
   ]
  },
  {
   "cell_type": "code",
   "execution_count": 99,
   "metadata": {},
   "outputs": [
    {
     "data": {
      "image/png": "[encoded data removed]",
      "text/plain": [
       "<Figure size 432x288 with 1 Axes>"
      ]
     },
     "metadata": {
      "needs_background": "light"
     },
     "output_type": "display_data"
    },
    {
     "data": {
      "image/png": "[encoded data removed]",
      "text/plain": [
       "<Figure size 432x288 with 1 Axes>"
      ]
     },
     "metadata": {},
     "output_type": "display_data"
    },
    {
     "data": {
      "image/png": "[encoded data removed]",
      "text/plain": [
       "<Figure size 432x288 with 1 Axes>"
      ]
     },
     "metadata": {
      "needs_background": "light"
     },
     "output_type": "display_data"
    },
    {
     "data": {
      "image/png": "[encoded data removed]",
      "text/plain": [
       "<Figure size 432x288 with 1 Axes>"
      ]
     },
     "metadata": {},
     "output_type": "display_data"
    },
    {
     "data": {
      "image/png": "[encoded data removed]",
      "text/plain": [
       "<Figure size 432x288 with 1 Axes>"
      ]
     },
     "metadata": {
      "needs_background": "light"
     },
     "output_type": "display_data"
    },
    {
     "data": {
      "image/png": "[encoded data removed]",
      "text/plain": [
       "<Figure size 432x288 with 1 Axes>"
      ]
     },
     "metadata": {},
     "output_type": "display_data"
    },
    {
     "data": {
      "image/png": "[encoded data removed]",
      "text/plain": [
       "<Figure size 432x288 with 1 Axes>"
      ]
     },
     "metadata": {
      "needs_background": "light"
     },
     "output_type": "display_data"
    },
    {
     "data": {
      "image/png": "[encoded data removed]",
      "text/plain": [
       "<Figure size 432x288 with 1 Axes>"
      ]
     },
     "metadata": {},
     "output_type": "display_data"
    },
    {
     "data": {
      "image/png": "[encoded data removed]",
      "text/plain": [
       "<Figure size 432x288 with 1 Axes>"
      ]
     },
     "metadata": {
      "needs_background": "light"
     },
     "output_type": "display_data"
    },
    {
     "data": {
      "image/png": "[encoded data removed]",
      "text/plain": [
       "<Figure size 432x288 with 1 Axes>"
      ]
     },
     "metadata": {},
     "output_type": "display_data"
    }
   ],
   "source": [
    "############## Task 11\n",
    "z = torch.randn(size=(5, 16)) # your code here #\n",
    "adj = autoencoder.decoder(torch.randn(size=(5, 16)))\n",
    "\n",
    "# Create and visualize graphs\n",
    "for i in range(len(adj)):\n",
    "    A = adj[i,:,:].detach().cpu().numpy()\n",
    "    A[A>=0.5] = 1\n",
    "    A[A<0.5] = 0\n",
    "    G = nx.from_numpy_array(A)\n",
    "    to_remove = list()\n",
    "    for node in G.nodes():\n",
    "        if G.degree(node) == 0:\n",
    "            to_remove.append(node)\n",
    "    G.remove_nodes_from(to_remove)\n",
    "    find_communities_and_plot(G)"
   ]
  }
 ],
 "metadata": {
  "kernelspec": {
   "display_name": "Python 3",
   "language": "python",
   "name": "python3"
  },
  "language_info": {
   "codemirror_mode": {
    "name": "ipython",
    "version": 3
   },
   "file_extension": ".py",
   "mimetype": "text/x-python",
   "name": "python",
   "nbconvert_exporter": "python",
   "pygments_lexer": "ipython3",
   "version": "3.10.12"
  },
  "orig_nbformat": 4
 },
 "nbformat": 4,
 "nbformat_minor": 2
}
